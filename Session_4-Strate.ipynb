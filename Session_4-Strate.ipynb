{
 "cells": [
  {
   "cell_type": "code",
   "execution_count": 8,
   "metadata": {},
   "outputs": [
    {
     "name": "stdout",
     "output_type": "stream",
     "text": [
      "distance 1: 7.810249675906654\n",
      "distance 2: 13.114877048604\n"
     ]
    }
   ],
   "source": [
    "import math\n",
    "\n",
    "x1 = [10,12]\n",
    "x2 = [5,6]\n",
    "\n",
    "x3 = [10, 12, 5, 6]\n",
    "x4 = [2, 2, 7, 8]\n",
    "\n",
    "dis1 = math.sqrt((x2[1]-x1[1])**2+(x2[0]-x1[0])**2)\n",
    "dis2 = math.sqrt((x4[0]-x3[0])**2+(x4[1]-x3[1])**2+(x4[2]-x3[2])**2+(x4[3]-x3[3])**2)\n",
    "\n",
    "print(\"distance 1:\", dis1)\n",
    "print(\"distance 2:\", dis2)"
   ]
  },
  {
   "cell_type": "code",
   "execution_count": 17,
   "metadata": {},
   "outputs": [
    {
     "name": "stdout",
     "output_type": "stream",
     "text": [
      "2\n",
      "2\n",
      "2\n",
      "2\n",
      "[2.25, 3.75, 5.0, 9.0]\n"
     ]
    }
   ],
   "source": [
    "import math\n",
    "p1 = [5,4]\n",
    "p2 = [1,5]\n",
    "p3 = [3,2]\n",
    "p4 = [7,9]\n",
    "\n",
    "Dp1 = [1,4,5]\n",
    "Dp2 = [4,6,5]\n",
    "Dp3 = [10,20,20]\n",
    "\n",
    "def Centroid(data):\n",
    "    centroids = []\n",
    "    sum = 0\n",
    "    for dat in data:\n",
    "        print(len(dat))\n",
    "        for i in range(len(dat)):\n",
    "            sum += dat[i]\n",
    "        centroids.append(round(sum/len(data),2))\n",
    "    return centroids\n",
    "\n",
    "\n",
    "print(Centroid([p1,p2,p3,p4]))"
   ]
  },
  {
   "cell_type": "code",
   "execution_count": 29,
   "metadata": {},
   "outputs": [
    {
     "name": "stdout",
     "output_type": "stream",
     "text": [
      "[1, 4]\n",
      "[3, 2]\n",
      "[5, 8]\n",
      "[9, 10]\n",
      "[1, 1]\n",
      "[0, 2]\n",
      "[10, 7]\n"
     ]
    },
    {
     "ename": "NameError",
     "evalue": "name 'kmean' is not defined",
     "output_type": "error",
     "traceback": [
      "\u001b[0;31m---------------------------------------------------------------------------\u001b[0m",
      "\u001b[0;31mNameError\u001b[0m                                 Traceback (most recent call last)",
      "\u001b[0;32m<ipython-input-29-d1c55d351bc5>\u001b[0m in \u001b[0;36m<module>\u001b[0;34m\u001b[0m\n\u001b[1;32m      8\u001b[0m         \u001b[0;31m#distance[1][i]=math.sqrt((data[i][0]-centroid[1][0])**2+(data[i][1]-centroid[1][1])**2)\u001b[0m\u001b[0;34m\u001b[0m\u001b[0;34m\u001b[0m\u001b[0;34m\u001b[0m\u001b[0m\n\u001b[1;32m      9\u001b[0m     \u001b[0;32mreturn\u001b[0m \u001b[0mkmean\u001b[0m\u001b[0;34m\u001b[0m\u001b[0;34m\u001b[0m\u001b[0m\n\u001b[0;32m---> 10\u001b[0;31m \u001b[0mprint\u001b[0m\u001b[0;34m(\u001b[0m\u001b[0mKmeans\u001b[0m\u001b[0;34m(\u001b[0m\u001b[0mdata\u001b[0m\u001b[0;34m,\u001b[0m \u001b[0mcentroid\u001b[0m\u001b[0;34m)\u001b[0m\u001b[0;34m)\u001b[0m\u001b[0;34m\u001b[0m\u001b[0;34m\u001b[0m\u001b[0m\n\u001b[0m",
      "\u001b[0;32m<ipython-input-29-d1c55d351bc5>\u001b[0m in \u001b[0;36mKmeans\u001b[0;34m(data, centroids)\u001b[0m\n\u001b[1;32m      7\u001b[0m         \u001b[0;31m#distance[0][i]=math.sqrt((data[i][0]-centroid[0][0])**2+(data[i][1]-centroid[0][1])**2)\u001b[0m\u001b[0;34m\u001b[0m\u001b[0;34m\u001b[0m\u001b[0;34m\u001b[0m\u001b[0m\n\u001b[1;32m      8\u001b[0m         \u001b[0;31m#distance[1][i]=math.sqrt((data[i][0]-centroid[1][0])**2+(data[i][1]-centroid[1][1])**2)\u001b[0m\u001b[0;34m\u001b[0m\u001b[0;34m\u001b[0m\u001b[0;34m\u001b[0m\u001b[0m\n\u001b[0;32m----> 9\u001b[0;31m     \u001b[0;32mreturn\u001b[0m \u001b[0mkmean\u001b[0m\u001b[0;34m\u001b[0m\u001b[0;34m\u001b[0m\u001b[0m\n\u001b[0m\u001b[1;32m     10\u001b[0m \u001b[0mprint\u001b[0m\u001b[0;34m(\u001b[0m\u001b[0mKmeans\u001b[0m\u001b[0;34m(\u001b[0m\u001b[0mdata\u001b[0m\u001b[0;34m,\u001b[0m \u001b[0mcentroid\u001b[0m\u001b[0;34m)\u001b[0m\u001b[0;34m)\u001b[0m\u001b[0;34m\u001b[0m\u001b[0;34m\u001b[0m\u001b[0m\n",
      "\u001b[0;31mNameError\u001b[0m: name 'kmean' is not defined"
     ]
    }
   ],
   "source": [
    "data = [[1,4], [3,2], [5,8], [9,10], [1,1], [0,2], [10,7]]\n",
    "centroid = [[2,2], [8,10]]\n",
    "def Kmeans(data, centroids):\n",
    "    distance = [[]]\n",
    "    for i in range(len(data)):\n",
    "        print(data[i])\n",
    "        #distance[0][i]=math.sqrt((data[i][0]-centroid[0][0])**2+(data[i][1]-centroid[0][1])**2)\n",
    "        #distance[1][i]=math.sqrt((data[i][0]-centroid[1][0])**2+(data[i][1]-centroid[1][1])**2)\n",
    "    return kmean\n",
    "print(Kmeans(data, centroid))"
   ]
  },
  {
   "cell_type": "code",
   "execution_count": null,
   "metadata": {},
   "outputs": [],
   "source": []
  }
 ],
 "metadata": {
  "kernelspec": {
   "display_name": "Python 3",
   "language": "python",
   "name": "python3"
  },
  "language_info": {
   "codemirror_mode": {
    "name": "ipython",
    "version": 3
   },
   "file_extension": ".py",
   "mimetype": "text/x-python",
   "name": "python",
   "nbconvert_exporter": "python",
   "pygments_lexer": "ipython3",
   "version": "3.8.3"
  }
 },
 "nbformat": 4,
 "nbformat_minor": 4
}
