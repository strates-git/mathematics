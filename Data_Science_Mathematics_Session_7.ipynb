{
 "cells": [
  {
   "cell_type": "markdown",
   "metadata": {},
   "source": [
    "# Data Science Mathematics\n",
    "# Social Network Analysis\n",
    "# In-Class Activity"
   ]
  },
  {
   "cell_type": "markdown",
   "metadata": {},
   "source": [
    "Refer to the handout for a description of this activity.\n",
    "\n",
    "You will analyze the two ego graphs provided.  One is a known Russian bot, and the other is unknown.  Based on graph resonance, determine if the unknown graph is likely to be a military person.  You will also calculate the clustering coefficients for each graph, and enumerate the communities.\n",
    "\n",
    "First, import the relevant libraries."
   ]
  },
  {
   "cell_type": "markdown",
   "metadata": {},
   "source": [
    "#1 a) Resonance quantifies similarity between graphs\n",
    "b) Network Centralities: calculated in code\n",
    "   Clustering Coefficients: Known Bot Clustering Coefficient: 0.20371874907173476\n",
    "                            Unknown 1 Clustering Coefficient: 0.07937480027928205\n",
    "   Communities:  Known Bot Communities\n",
    "                 240\n",
    "                 143\n",
    "                 75\n",
    "                 46\n",
    "                 39\n",
    "                 \n",
    "                 Unknown 1 Communities\n",
    "                 303\n",
    "                 75\n",
    "                 43\n",
    "                 38\n",
    "\n",
    "c) The most likely assesment is that the unknown network is also a bot, given the high resonance between the known bot graph and the unknown graph. \n",
    "\n",
    "d) From what I know of Twitter, follower status is a sign of a connection for a human user (assumption being that a bot could be programmed to randomly follow any given twitter user). However, I would argue it isn't sufficient for this type of analysis in general. Following does not indicate level of engagement, which could be added to the graph via some sort of weighting metric. Also, directionality could indicate connection more realistically (i.e. an ego graph that shows all one directional connec"
   ]
  },
  {
   "cell_type": "code",
   "execution_count": 1,
   "metadata": {},
   "outputs": [],
   "source": [
    "import networkx as nx\n",
    "import pickle\n",
    "import os\n",
    "import math\n",
    "import matplotlib.pyplot as plt\n",
    "import numpy as np"
   ]
  },
  {
   "cell_type": "markdown",
   "metadata": {},
   "source": [
    "The graph objects have been serialized.  Build a function to load them into memory using pickle."
   ]
  },
  {
   "cell_type": "code",
   "execution_count": 12,
   "metadata": {},
   "outputs": [],
   "source": [
    "#open pickle file\n",
    "def open_pickle(pickle_path):\n",
    "    with open(pickle_path, 'rb') as pickle_file:\n",
    "        object_name = pickle.load(pickle_file)\n",
    "    return object_name"
   ]
  },
  {
   "cell_type": "markdown",
   "metadata": {},
   "source": [
    "You will have to calculate the resonance for all vertices in your ego graphs.  Define a function to calculate the betweenness centralities for all vertices."
   ]
  },
  {
   "cell_type": "code",
   "execution_count": 3,
   "metadata": {},
   "outputs": [],
   "source": [
    "#Get betweenness centrality\n",
    "def spectrum(G):\n",
    "    centrality = nx.betweenness_centrality(G)\n",
    "    return centrality"
   ]
  },
  {
   "cell_type": "markdown",
   "metadata": {},
   "source": [
    "Now, define a function for calculating graph resonance."
   ]
  },
  {
   "cell_type": "code",
   "execution_count": 4,
   "metadata": {},
   "outputs": [],
   "source": [
    "#Calculate graph resonance between graphs G1 and G2, with resonances S1 and S2, respectively\n",
    "def resonate(G1, S1, G2, S2):\n",
    "    res_divisor_1 = sum([a**2 for a in S1.values()])\n",
    "    res_divisor_2 = sum([a**2 for a in S2.values()])\n",
    "    res_divisor = math.sqrt(res_divisor_1*res_divisor_2)\n",
    "    if res_divisor == 0:\n",
    "        resonance = 0.0\n",
    "    else:\n",
    "        G1_nodes = G1.nodes()\n",
    "        G2_nodes = G2.nodes()\n",
    "        G_intersect = list(set(G1_nodes) & set(G2_nodes))\n",
    "        if len(G_intersect) != 0:\n",
    "            S1_list = [S1[node] for node in G_intersect]\n",
    "            S1_array = np.array(S1_list)\n",
    "            S2_list = [S2[node] for node in G_intersect]\n",
    "            S2_array = np.array(S2_list)\n",
    "            resonance_raw = np.dot(S1_array, S2_array)\n",
    "            resonance = resonance_raw/res_divisor\n",
    "        else:\n",
    "            resonance = 0.0\n",
    "    return resonance"
   ]
  },
  {
   "cell_type": "markdown",
   "metadata": {},
   "source": [
    "It is important to know the clustering coefficients for each graph.  You should define a function for that."
   ]
  },
  {
   "cell_type": "code",
   "execution_count": 5,
   "metadata": {},
   "outputs": [],
   "source": [
    "#Calculate clustering coefficient for graph G\n",
    "def clustering_coeff(G):\n",
    "    c = nx.average_clustering(G)\n",
    "    return c"
   ]
  },
  {
   "cell_type": "markdown",
   "metadata": {},
   "source": [
    "You will also want to enumerate the communities in each graph.  Let's define a function to use the Clauset-Newman-Moore algorithm for community detection."
   ]
  },
  {
   "cell_type": "code",
   "execution_count": 6,
   "metadata": {},
   "outputs": [],
   "source": [
    "#Community detection\n",
    "def get_communities(G):\n",
    "    from networkx.algorithms.community import greedy_modularity_communities\n",
    "    communities = list(greedy_modularity_communities(G))\n",
    "    return communities"
   ]
  },
  {
   "cell_type": "markdown",
   "metadata": {},
   "source": [
    "Now that you've defined all your functions, let's import the graphs.  Specify the absolute paths of your ego graphs."
   ]
  },
  {
   "cell_type": "code",
   "execution_count": 14,
   "metadata": {},
   "outputs": [],
   "source": [
    "#Note that you have to specify the absolute paths yourself for the graphs associated with this exercise\n",
    "#Here is an example:\n",
    "#r'C:\\Directory1\\Directory2\\File_Name.pkl'\n",
    "\n",
    "known_bot_path = r'known_bot2_Session7.pkl'\n",
    "unknown_path_1 = r'Unknown_1_Session7.pkl'"
   ]
  },
  {
   "cell_type": "markdown",
   "metadata": {},
   "source": [
    "Now let's load each graph."
   ]
  },
  {
   "cell_type": "code",
   "execution_count": 15,
   "metadata": {},
   "outputs": [],
   "source": [
    "known_bot = open_pickle(known_bot_path)\n",
    "unknown_1 = open_pickle(unknown_path_1)"
   ]
  },
  {
   "cell_type": "markdown",
   "metadata": {},
   "source": [
    "Let's explore our graphs a bit.  How many nodes (vertices) are in each one?  What does this mean?"
   ]
  },
  {
   "cell_type": "code",
   "execution_count": 29,
   "metadata": {},
   "outputs": [
    {
     "name": "stdout",
     "output_type": "stream",
     "text": [
      "Vertices in Known Bot: 543\n",
      "Vertices in Unknown 1: 459\n",
      "[('qwertydfnf', '_Tomilina_'), ('bezenkova_777', 'Arsenteva_katy'), ('bezenkova_777', 'rusaliiinaaa'), ('TanuaKuklina', 'Arsenteva_katy'), ('KseniyaKoma2208', 'namedmeklass'), ('HAM_WaN_911', '_Tomilina_'), ('MrsBrennan0104', 'namedmeklass'), ('gurman_am', 'Arsenteva_katy'), ('gurman_am', '_Tomilina_'), ('v_malenda', '_svetlanaa'), ('v_malenda', 'rusaliiinaaa'), ('v_malenda', '_Tomilina_'), ('Dary_bay', 'Arsenteva_katy'), ('Dary_bay', '_Tomilina_'), ('Dary_bay', 'namedmeklass'), ('PShimanyuk', 'Arsenteva_katy'), ('AleksandraGaga5', 'Arsenteva_katy'), ('KazankovaULC', '_Tomilina_'), ('ilyasas13_37', '_Tomilina_'), ('ilyasas13_37', 'namedmeklass'), ('turnova_', 'dariaparfff'), ('turnova_', '_Tomilina_'), ('itsevdarix', 'rusaliiinaaa'), ('Yulay_Irk38', 'Arsenteva_katy'), ('Yulay_Irk38', '_Tomilina_'), ('gaElAHS5Q8BADAl', 'Arsenteva_katy'), ('GOOOOOOOOOODDES', '_Tomilina_'), ('Queen_Julay', 'Arsenteva_katy'), ('Queen_Julay', '_Tomilina_'), ('dmitri0980', 'Arsenteva_katy'), ('nik_vas97', '_Tomilina_'), ('merinov24', '_Tomilina_'), ('Rgk1c8KbUWe4NR3', 'Arsenteva_katy'), ('Rgk1c8KbUWe4NR3', '_Tomilina_'), ('margo_davidova', 'Arsenteva_katy'), ('dariaparfff', 'NrXegzBGZYzqsUR'), ('dariaparfff', 'unbrazz'), ('dariaparfff', 'Asyalovedog'), ('dariaparfff', 'imlerachka'), ('dariaparfff', 'Nastua_Vanger'), ('dariaparfff', 'RoysNw'), ('dariaparfff', 'EkaterinaArsen5'), ('dariaparfff', 'DeresVera'), ('dariaparfff', 'tanya19917'), ('dariaparfff', 'POLINA10191478'), ('dariaparfff', 'Yns2Ejrr8KUoKxz'), ('dariaparfff', 'DanaBolechicha'), ('dariaparfff', 'hHV9qL4wa6Xrndz'), ('dariaparfff', 'yuliaa2706'), ('dariaparfff', 'Nice__Tanya'), ('dariaparfff', 'Malyshe2002'), ('dariaparfff', 'DyominaOlya'), ('dariaparfff', 'Arsenteva_katy'), ('dariaparfff', 'Jylia_Iman_'), ('dariaparfff', 'Oydina97'), ('dariaparfff', 'Polina_Ivchenko'), ('dariaparfff', 'kristiesse'), ('dariaparfff', 'Emmichkaaa'), ('dariaparfff', '1998_danchik'), ('dariaparfff', 'LavyginaYulia'), ('dariaparfff', 'Natalia73440833'), ('dariaparfff', 'sj____z'), ('dariaparfff', '__Lisonok__'), ('dariaparfff', 'slam_ann'), ('dariaparfff', 'marina_alek'), ('dariaparfff', 'anyapolshchiko7'), ('dariaparfff', 'Koshka23082012'), ('dariaparfff', 'NikaMrMrMr'), ('dariaparfff', 'Komarova220899'), ('dariaparfff', 'bezumie38'), ('dariaparfff', 'divnina'), ('dariaparfff', '97Masha_'), ('dariaparfff', 'Ignatyeva_Katya'), ('dariaparfff', 'rusaliiinaaa'), ('dariaparfff', 'mokretsova_38'), ('DenisAncient', 'Arsenteva_katy'), ('1nastyaaa_', '_Tomilina_'), ('Natalia73440833', 'rusaliiinaaa'), ('shidagis04033', 'Arsenteva_katy'), ('shidagis04033', 'rusaliiinaaa'), ('kmUloUTTY30jlMP', 'Arsenteva_katy'), ('kmUloUTTY30jlMP', '_Tomilina_'), ('kmUloUTTY30jlMP', 'rusaliiinaaa'), ('spacemir_ru', 'Arsenteva_katy'), ('qrlQmOY5TcHoFDt', 'Arsenteva_katy'), ('qrlQmOY5TcHoFDt', '_Tomilina_'), ('polina_poppins', 'Arsenteva_katy'), ('struktura99', 'namedmeklass'), ('Tarashnina23', '_Tomilina_'), ('crud06', 'Arsenteva_katy'), ('_Marianaa99_', '_Tomilina_'), ('_Marianaa99_', 'namedmeklass'), ('imlerachka', 'rusaliiinaaa'), ('imlerachka', 'Arsenteva_katy'), ('imlerachka', '_Tomilina_'), ('2fURbRMDgBJl9KZ', 'Arsenteva_katy'), ('Flyder34', 'Arsenteva_katy'), ('vun4uk', 'Arsenteva_katy'), ('nastia__26', '_Tomilina_'), ('Hgp3ZMm357vAKG4', '_Tomilina_'), ('zhe_nay', 'Arsenteva_katy'), ('zhe_nay', '_Tomilina_'), ('MarshalResort', 'Arsenteva_katy'), ('ulana16092001', 'Arsenteva_katy'), ('vova_voronkov', 'Arsenteva_katy'), ('vova_voronkov', '_Tomilina_'), ('lebedevadasha23', 'Arsenteva_katy'), ('temnI_', 'Arsenteva_katy'), ('davidova200', '_Tomilina_'), ('maryac0492', 'Arsenteva_katy'), ('AsferO138', 'Arsenteva_katy'), ('makarovaarina91', 'Arsenteva_katy'), ('Ikra_Irkutsk', 'namedmeklass'), ('polina_nch', 'namedmeklass'), ('Vikusik_9', 'Arsenteva_katy'), ('nastinasti1488', 'Arsenteva_katy'), ('kisu4e4ka', 'namedmeklass'), ('DashaKolosova4', '_Tomilina_'), ('EshelkinaLiza', '_Tomilina_'), ('SagdievAlibek', 'Arsenteva_katy'), ('prelessto', 'Arsenteva_katy'), ('esia96', 'rusaliiinaaa'), ('esia96', '_Tomilina_'), ('esia96', 'Komarova220899'), ('esia96', 'Arsenteva_katy'), ('YurevaAlyona', 'Arsenteva_katy'), ('_r_polina_u_', 'Arsenteva_katy'), ('moskalevaal01', 'Arsenteva_katy'), ('moskalevaal01', '_Tomilina_'), ('BrazilskayaPopa', 'Arsenteva_katy'), ('milenakoba', 'Arsenteva_katy'), ('MILENTEVA_138', 'Arsenteva_katy'), ('AdrianoGreyy', 'Arsenteva_katy'), ('Gera_Myakish', 'Arsenteva_katy'), ('BelovaDasha17', '_Tomilina_'), ('DashaBelova1999', 'Arsenteva_katy'), ('DashaBelova1999', '_Tomilina_'), ('aahmed_owt', '_Tomilina_'), ('dzhoni69', 'rusaliiinaaa'), ('dzhoni69', '_Tomilina_'), ('lardob_', 'namedmeklass'), ('dn_mr_kot', '_Tomilina_'), ('borya_rustamov', '_Tomilina_'), ('evgen_mironova7', 'Arsenteva_katy'), ('old_collector', 'Arsenteva_katy'), ('ml_2_2_8_', '_Tomilina_'), ('Alex_zver992205', 'Arsenteva_katy'), ('Alex_zver992205', '_Tomilina_'), ('GbkhmGegjkdsd', 'Arsenteva_katy'), ('davidovaeliz02', 'Arsenteva_katy'), ('davidovaeliz02', '_Tomilina_'), ('davidovaeliz02', 'rusaliiinaaa'), ('vunisoon', '_svetlanaa'), ('vunisoon', 'rusaliiinaaa'), ('vunisoon', 'Arsenteva_katy'), ('NrXegzBGZYzqsUR', 'Arsenteva_katy'), ('NrXegzBGZYzqsUR', '_Tomilina_'), ('kustova54', '_Tomilina_'), ('686442234f', 'Arsenteva_katy'), ('686442234f', '_Tomilina_'), ('_svetlanaa', '23a0ARFf75jzDe5'), ('_svetlanaa', '__ELIZAVETA__'), ('_svetlanaa', 'Komarova220899'), ('_svetlanaa', 'crybabycry050'), ('_svetlanaa', 'Veronika_12080'), ('_svetlanaa', 'rusaliiinaaa'), ('_svetlanaa', 'sshhfq7'), ('_svetlanaa', '__0_s_a_v__4'), ('guriev_k', 'namedmeklass'), ('YAGRIHANSK', 'rusaliiinaaa'), ('MissKat88761550', 'Arsenteva_katy'), ('ronya_pavlova', '_Tomilina_'), ('aKhrebtova15', 'rusaliiinaaa'), ('aKhrebtova15', 'Arsenteva_katy'), ('Q1zza1red', 'Arsenteva_katy'), ('Shawki555557', '_Tomilina_'), ('WesleyGoat54', 'Arsenteva_katy'), ('express_tour38', 'namedmeklass'), ('_gmrv_', 'Arsenteva_katy'), ('crybabycry050', 'Arsenteva_katy'), ('crybabycry050', '_Tomilina_'), ('crybabycry050', 'rusaliiinaaa'), ('Kek_2003_', 'Arsenteva_katy'), ('Kek_2003_', '_Tomilina_'), ('17_10_1999_', 'Arsenteva_katy'), ('17_10_1999_', '_Tomilina_'), ('Ana_aZhuchkova', '_Tomilina_'), ('marina_alek', 'Arsenteva_katy'), ('Kristin88313502', 'namedmeklass'), ('PayushiN_', 'namedmeklass'), ('gordeevaleriaa', 'Arsenteva_katy'), ('gordeevaleriaa', '_Tomilina_'), ('gordeevaleriaa', 'namedmeklass'), ('DTT_Dasha', 'namedmeklass'), ('alina03030365', 'Arsenteva_katy'), ('STolstyak', 'Arsenteva_katy'), ('7Yxhd3DYMObwHRD', '_Tomilina_'), ('5T9skqh8doB3FhF', 'Arsenteva_katy'), ('5T9skqh8doB3FhF', '_Tomilina_'), ('PavelAman', 'Arsenteva_katy'), ('makhalebedeva', 'namedmeklass'), ('sshhfq7', 'Arsenteva_katy'), ('sshhfq7', 'rusaliiinaaa'), ('z5OJy25QYQe9ili', 'Arsenteva_katy'), ('danil_volchenko', 'Arsenteva_katy'), ('danil_volchenko', '_Tomilina_'), ('danil_volchenko', 'namedmeklass'), ('Versace_777', 'Arsenteva_katy'), ('Lybimka__nastia', 'Arsenteva_katy'), ('Lybimka__nastia', '_Tomilina_'), ('200970Milyutina', 'Arsenteva_katy'), ('althoughhh', 'Arsenteva_katy'), ('lexa9099', '_Tomilina_'), ('fuckwiththef', 'Arsenteva_katy'), ('Kopylovaaa_k', '_Tomilina_'), ('Kristina2000tim', 'Arsenteva_katy'), ('Kristina2000tim', '_Tomilina_'), ('MurMarcenko', 'Arsenteva_katy'), ('vadim4enko', '_Tomilina_'), ('NVTkszegs2AIm5w', 'rusaliiinaaa'), ('nicepeopleintwi', 'Arsenteva_katy'), ('EazyE58544188', 'Arsenteva_katy'), ('emmaso0277', 'Arsenteva_katy'), ('rusaliiinaaa', 'edvardovna_a'), ('rusaliiinaaa', 'forevernasti'), ('rusaliiinaaa', 'ZAWOLOKINA'), ('rusaliiinaaa', '23a0ARFf75jzDe5'), ('rusaliiinaaa', 'anastasssss_'), ('rusaliiinaaa', '777zyryanova777'), ('rusaliiinaaa', 'ANASTASIYA_3838'), ('rusaliiinaaa', 'li__38'), ('rusaliiinaaa', 'kristalikkrisss'), ('rusaliiinaaa', 'mZiMtOmczkqkHEJ'), ('rusaliiinaaa', 'Galeevaaaaa'), ('rusaliiinaaa', '_darya19_'), ('rusaliiinaaa', 'Arsenteva_katy'), ('rusaliiinaaa', 'F6uxYbGaUWbCogF'), ('rusaliiinaaa', 'Jg0qEIgCrmAf3c4'), ('rusaliiinaaa', 'tanya19917'), ('rusaliiinaaa', 'NikitinaMari_'), ('rusaliiinaaa', 'Karimova___k'), ('rusaliiinaaa', '_Tomilina_'), ('rusaliiinaaa', '87FvuoW2GbufOPU'), ('rusaliiinaaa', 'HkvuVtbcc8nhBuj'), ('rusaliiinaaa', 'k_chernenko'), ('rusaliiinaaa', 'ismailova001_'), ('rusaliiinaaa', 'Koshka23082012'), ('rusaliiinaaa', 'Veronika_12080'), ('rusaliiinaaa', '_zolotareva_138'), ('rusaliiinaaa', 'Khlyaleks'), ('rusaliiinaaa', '__ELIZAVETA__'), ('rusaliiinaaa', 'Komarova220899'), ('rusaliiinaaa', '_vorotilova_'), ('rusaliiinaaa', 'Christie0000'), ('rusaliiinaaa', 'mokretsova_38'), ('rusaliiinaaa', 'Mister_bac'), ('prmxt', 'namedmeklass'), ('morgun_nastenka', '_Tomilina_'), ('DAlLYQ0UTES', '_Tomilina_'), ('_gooooooooddes_', '_Tomilina_'), ('witch9280', '_Tomilina_'), ('UnLucky_NNN', 'Arsenteva_katy'), ('Nastua_Vanger', 'Arsenteva_katy'), ('MmkbyIZC8FBRbJA', 'Arsenteva_katy'), ('oQheMImY6pqkLeq', 'Arsenteva_katy'), ('Lera23011', 'Arsenteva_katy'), ('jigovod', 'Arsenteva_katy'), ('wuC95oZleq3hRVT', '_Tomilina_'), ('oleg_telelyaev', 'Arsenteva_katy'), ('maxa_sah4r', 'Arsenteva_katy'), ('izziell', '_Tomilina_'), ('lerada111com', '_Tomilina_'), ('nika_veronika3', 'Arsenteva_katy'), ('_nelli_te_', 'Arsenteva_katy'), ('lis222214', 'Arsenteva_katy'), ('Shumskaya01', 'Arsenteva_katy'), ('Veronya790', '_Tomilina_'), ('BerryGold_', 'Arsenteva_katy'), ('oliviaketusinh', 'Arsenteva_katy'), ('oliviaketusinh', '_Tomilina_'), ('daRyVasilyeva_', 'Arsenteva_katy'), ('daRyVasilyeva_', '_Tomilina_'), ('WALERA518', '_Tomilina_'), ('drvdrn', 'namedmeklass'), ('alya_p_', 'Arsenteva_katy'), ('anastasssss_', '_Tomilina_'), ('anastasssss_', 'namedmeklass'), ('ob3x35QbQM0QsAC', 'Arsenteva_katy'), ('ob3x35QbQM0QsAC', 'namedmeklass'), ('ZACEN_MANS', 'Arsenteva_katy'), ('Shishkin38', 'Arsenteva_katy'), ('Makarova_mr27', 'Arsenteva_katy'), ('masha3167', 'Arsenteva_katy'), ('sasha_sazhina', 'Arsenteva_katy'), ('ruslanevloev202', '_Tomilina_'), ('Evloev138', 'Arsenteva_katy'), ('Evloev138', '_Tomilina_'), ('1234987s', '_Tomilina_'), ('IW0HhY7i1bb93Pt', 'Arsenteva_katy'), ('malinka0604', 'namedmeklass'), ('EkaterinaArsen5', '_Tomilina_'), ('alininenine', '_Tomilina_'), ('li__38', '_Tomilina_'), ('li__38', 'namedmeklass'), ('_n__c__', 'namedmeklass'), ('ANASTASIYA_3838', 'Arsenteva_katy'), ('Saelky1', 'Komarova220899'), ('no8j9z8Ac3bBN4h', 'Arsenteva_katy'), ('45Julia45', 'Arsenteva_katy'), ('Galeevaaaaa', 'Arsenteva_katy'), ('Dar_yaBay', 'Arsenteva_katy'), ('Dar_yaBay', '_Tomilina_'), ('european_kofe', 'Arsenteva_katy'), ('european_kofe', '_Tomilina_'), ('djaz_asel', 'namedmeklass'), ('karpova_lada', '_Tomilina_'), ('MahinaAlisa', 'Arsenteva_katy'), ('witch_grin', 'namedmeklass'), ('20fing', 'Arsenteva_katy'), ('2QfpBoA43t1tzcL', 'Arsenteva_katy'), ('2QfpBoA43t1tzcL', '_Tomilina_'), ('incorrigible666', 'Arsenteva_katy'), ('DraftGaming5', 'Arsenteva_katy'), ('lyceum36', 'namedmeklass'), ('shumsckaia2016', 'Arsenteva_katy'), ('HlFleo', 'Arsenteva_katy'), ('Veronika_12080', 'Arsenteva_katy'), ('katrinaa_38', 'Arsenteva_katy'), ('kristay207', 'Arsenteva_katy'), ('kristay207', '_Tomilina_'), ('JelevEugenio', 'Arsenteva_katy'), ('____novella_', 'Arsenteva_katy'), ('Ikskatya', 'Arsenteva_katy'), ('bizkonsul', 'Arsenteva_katy'), ('CYKA_HA_OKHE', 'Arsenteva_katy'), ('rubirubi949', 'Arsenteva_katy'), ('rubirubi949', 'namedmeklass'), ('vadimsotired', 'namedmeklass'), ('gordeeva_lera_', 'Arsenteva_katy'), ('gordeeva_lera_', '_Tomilina_'), ('kustova_dina', '_Tomilina_'), ('alena19930909', '_Tomilina_'), ('pxl9l', 'Arsenteva_katy'), ('pxl9l', '_Tomilina_'), ('dontcallforacop', 'namedmeklass'), ('norboevarot', 'Arsenteva_katy'), ('norboevarot', '_Tomilina_'), ('5X6bCMf00Ebdntc', 'Arsenteva_katy'), ('GOSHAGOLDEN', 'namedmeklass'), ('Namedmelizzka18', 'namedmeklass'), ('feerichniy_zhur', 'namedmeklass'), ('lingal56', 'Arsenteva_katy'), ('aminasin__', 'Arsenteva_katy'), ('Danilkondra', 'Arsenteva_katy'), ('daxa38228', 'Arsenteva_katy'), ('Kristinka2609', 'Arsenteva_katy'), ('C0aIfltKiDw9KCy', 'Arsenteva_katy'), ('bgJUQL8TV6bMcKg', 'namedmeklass'), ('anQ6ZErzNaNoiKJ', 'Arsenteva_katy'), ('khan73690043gul', '_Tomilina_'), ('bnMg1qgRexwk76t', '_Tomilina_'), ('bnMg1qgRexwk76t', 'namedmeklass'), ('Footboom', 'Arsenteva_katy'), ('Nastena_1413', 'Arsenteva_katy'), ('Kmaywek', 'namedmeklass'), ('fasenkosanko', 'namedmeklass'), ('pogranez71', 'Arsenteva_katy'), ('pogranez71', '_Tomilina_'), ('Kopylovaaaa_k', 'Arsenteva_katy'), ('_zolotareva_138', 'Arsenteva_katy'), ('Timofeeva_2816', 'Arsenteva_katy'), ('Arina12Averanov', 'Arsenteva_katy'), ('vktrvslt', '_Tomilina_'), ('NeFormat_Kos', 'Arsenteva_katy'), ('NeFormat_Kos', '_Tomilina_'), ('artur_rom', 'Arsenteva_katy'), ('_no_name7777', 'Arsenteva_katy'), ('_no_name7777', '_Tomilina_'), ('aO1XOyIEd6k3qkq', 'Arsenteva_katy'), ('af6f26ec0fc24e1', 'Arsenteva_katy'), ('af6f26ec0fc24e1', '_Tomilina_'), ('pizdoplanka', 'namedmeklass'), ('murur_mur', 'Arsenteva_katy'), ('KsushaDavidova', 'Arsenteva_katy'), ('odilbek00576381', 'namedmeklass'), ('ast_stroy', '_Tomilina_'), ('A_Y_E38RUS', 'Arsenteva_katy'), ('shastina_ola57', 'Arsenteva_katy'), ('JGL5cRmfZxSS5rd', 'Arsenteva_katy'), ('syirbuuuu_', 'Arsenteva_katy'), ('syirbuuuu_', '_Tomilina_'), ('MaksGolubev', 'Arsenteva_katy'), ('hHV9qL4wa6Xrndz', 'Arsenteva_katy'), ('liza47283674', 'Arsenteva_katy'), ('Malyshe2002', 'Arsenteva_katy'), ('leyhyddai78', 'namedmeklass'), ('alexandrovn__a', 'Arsenteva_katy'), ('adghbf1', 'Arsenteva_katy'), ('osiprw', '_Tomilina_'), ('osiprw', 'namedmeklass'), ('TSerega_138RUS', 'Arsenteva_katy'), ('TSerega_138RUS', '_Tomilina_'), ('Kristinka_Lat', 'Arsenteva_katy'), ('kristiesse', 'namedmeklass'), ('87FvuoW2GbufOPU', '_Tomilina_'), ('ocean__heart__', 'Arsenteva_katy'), ('Obertosik', 'namedmeklass'), ('kristinka69111', 'Arsenteva_katy'), ('i4iana', 'Arsenteva_katy'), ('Criska220599', 'Arsenteva_katy'), ('Criska220599', '_Tomilina_'), ('SofiaShetskaya', '_Tomilina_'), ('shubinaskar1', 'Arsenteva_katy'), ('AfelyRu', 'Arsenteva_katy'), ('Hatova_Ellada_', 'Arsenteva_katy'), ('Hatova_Ellada_', '_Tomilina_'), ('andreeva033053', 'namedmeklass'), ('LmINaLKOnWHHSdM', 'Arsenteva_katy'), ('8F3CLHNAZMK9W0c', 'Arsenteva_katy'), ('huseynm_20', 'Arsenteva_katy'), ('lexa1583', 'Arsenteva_katy'), ('lexa1583', '_Tomilina_'), ('Oleska_777_', '_Tomilina_'), ('Glavatskix55', 'Arsenteva_katy'), ('Glavatskix55', '_Tomilina_'), ('babylon555_', 'Arsenteva_katy'), ('annaandreeva382', 'Arsenteva_katy'), ('artems0477', 'Arsenteva_katy'), ('asecery', 'Arsenteva_katy'), ('_polishna_', 'Arsenteva_katy'), ('page9938', 'Arsenteva_katy'), ('N_E_L_L_I_F', 'Arsenteva_katy'), ('N_E_L_L_I_F', '_Tomilina_'), ('AnetaMelkonyan', 'Arsenteva_katy'), ('Dradodendra', '_Tomilina_'), ('VKaratyuk', 'Arsenteva_katy'), ('NSHEMET', 'namedmeklass'), ('lera10110', 'Arsenteva_katy'), ('dashadasha25', 'Arsenteva_katy'), ('dashadasha25', 'namedmeklass'), ('F6uxYbGaUWbCogF', 'Arsenteva_katy'), ('lexadux', 'Arsenteva_katy'), ('La7lTODMxeALFPR', 'Arsenteva_katy'), ('NikitinaMari_', 'Arsenteva_katy'), ('NikitinaMari_', '_Tomilina_'), ('Np1RtsVs9BQa8b3', 'Arsenteva_katy'), ('ms_tyukova', '_Tomilina_'), ('NastasdN', 'Arsenteva_katy'), ('NastasdN', '_Tomilina_'), ('trufanovnikolay', 'Arsenteva_katy'), ('x4Hw3d9aZ3TmeAA', 'Arsenteva_katy'), ('Mr___Vlad7', '_Tomilina_'), ('bezumie38', '_Tomilina_'), ('namedmeklass', 'AlexAnikeev1'), ('namedmeklass', 'AnastasiSwell'), ('namedmeklass', 'Kate_55Pivi'), ('namedmeklass', 'mcW2Adh6au6vdBa'), ('namedmeklass', 'vktr_vslt'), ('namedmeklass', 'Sooonya_Sooofya'), ('namedmeklass', 'Bl00dfireeeee'), ('namedmeklass', 'tvoybatyavshoke'), ('namedmeklass', 'gogganesko97'), ('namedmeklass', 'ripvvi'), ('namedmeklass', 'Anybody1301'), ('namedmeklass', 'VaginatorIvan'), ('namedmeklass', 'leros_'), ('namedmeklass', 'to4kanevozvrata'), ('namedmeklass', 'AnastasiEgor'), ('namedmeklass', 'ramblre'), ('namedmeklass', 'T9FWu411LZOJ6Jt'), ('namedmeklass', 'poshlayamo11i'), ('namedmeklass', 'gordeevale'), ('namedmeklass', '_Tomilina_'), ('namedmeklass', 'JuliaMapKaz'), ('namedmeklass', 'WindRunner151'), ('namedmeklass', 'ad_levchenko'), ('namedmeklass', 'Lo93iWsobMaPsoi'), ('namedmeklass', 'KRONOSNIK'), ('namedmeklass', 'pobutan'), ('namedmeklass', 'Koshka23082012'), ('namedmeklass', 'C97iiHHsvQoyOY2'), ('namedmeklass', 'demon02081998'), ('namedmeklass', 'Komarova220899'), ('namedmeklass', 'ivakrias09'), ('namedmeklass', 'ilia110101'), ('namedmeklass', 'PayushiN'), ('Christie0000', '_Tomilina_'), ('06_2002', 'Arsenteva_katy'), ('AlexAnikeev1', '_Tomilina_'), ('darina2715', 'Arsenteva_katy'), ('vktr_vslt', '_Tomilina_'), ('IvanRomashh', 'Arsenteva_katy'), ('SahzinaA', 'Arsenteva_katy'), ('vitkovskayalll', 'Arsenteva_katy'), ('sorokin_EV', 'Arsenteva_katy'), ('molokiss', 'Arsenteva_katy'), ('hellofriends92', 'Arsenteva_katy'), ('mihamelnik', 'Arsenteva_katy'), ('DyominaOlya', 'Arsenteva_katy'), ('DyominaOlya', '_Tomilina_'), ('margonorb', 'Arsenteva_katy'), ('arzumanova_2000', 'Arsenteva_katy'), ('6large', 'Arsenteva_katy'), ('6large', '_Tomilina_'), ('pokimongik_1004', 'Arsenteva_katy'), ('TouR1sT_', 'Arsenteva_katy'), ('tanch_10', 'Arsenteva_katy'), ('_Lesha_00', 'Arsenteva_katy'), ('ARTEM_KLYUSHIN', '_Tomilina_'), ('kristina_kley', 'Arsenteva_katy'), ('karpenchixaa', 'Arsenteva_katy'), ('Khlyaleks', 'Arsenteva_katy'), ('Khlyaleks', '_Tomilina_'), ('advizatron', 'Arsenteva_katy'), ('irkmebelnazakaz', '_Tomilina_'), ('__ELIZAVETA__', '_Tomilina_'), ('__ELIZAVETA__', 'Arsenteva_katy'), ('_vorotilova_', 'Arsenteva_katy'), ('_vorotilova_', '_Tomilina_'), ('Alexand85777866', 'Arsenteva_katy'), ('Dasha_Belova_17', 'Arsenteva_katy'), ('Dasha_Belova_17', '_Tomilina_'), ('Alyona_Yureva', 'Arsenteva_katy'), ('max_kachkovsky', 'Arsenteva_katy'), ('SisterOfBlacke', '_Tomilina_'), ('Asanov218', 'Arsenteva_katy'), ('arinaaaaaa138', 'Arsenteva_katy'), ('arinaaaaaa138', '_Tomilina_'), ('vladimirovvnaa_', '_Tomilina_'), ('evlvami', 'Arsenteva_katy'), ('Moiseenko_18', 'Arsenteva_katy'), ('Ada47952964Adam', 'Arsenteva_katy'), ('DanaGavrichkova', '_Tomilina_'), ('ULCHA28', '_Tomilina_'), ('Sonya_merlin', 'Arsenteva_katy'), ('SeregaTVR', '_Tomilina_'), ('vladislavgu09d5', 'Arsenteva_katy'), ('x2ZtTNRh8fXuQxN', '_Tomilina_'), ('denis19911014', 'Arsenteva_katy'), ('togiwiq', 'Arsenteva_katy'), ('knlvZmfbP19KaI4', 'Arsenteva_katy'), ('nelli_tkev_', 'Arsenteva_katy'), ('nelli_tkev_', '_Tomilina_'), ('vika_38rus_', 'Arsenteva_katy'), ('vika_38rus_', '_Tomilina_'), ('Maksimchik_', 'Arsenteva_katy'), ('Leyla418', 'Arsenteva_katy'), ('sezontenko18', 'Arsenteva_katy'), ('Viii_03', 'Arsenteva_katy'), ('Tazovod_epta', 'Arsenteva_katy'), ('Tazovod_epta', '_Tomilina_'), ('Borets_', 'Arsenteva_katy'), ('17voJgN2kvzUN0c', 'Arsenteva_katy'), ('nastyashestak17', '_Tomilina_'), ('zahariaks', 'Arsenteva_katy'), ('zahariaks', '_Tomilina_'), ('ChuprianovR', 'Arsenteva_katy'), ('cherniycvetok', 'Arsenteva_katy'), ('mZiMtOmczkqkHEJ', 'Arsenteva_katy'), ('mZiMtOmczkqkHEJ', '_Tomilina_'), ('8858HASjxjx1f85', 'Arsenteva_katy'), ('Smokeskl', 'Arsenteva_katy'), ('POLINA10191478', 'Arsenteva_katy'), ('POLINA10191478', '_Tomilina_'), ('zDtmTinmcPGmKpV', 'Arsenteva_katy'), ('666Voevodina', 'Arsenteva_katy'), ('666Voevodina', '_Tomilina_'), ('TanyaKazankova', 'Arsenteva_katy'), ('gordeevale', 'Arsenteva_katy'), ('gordeevale', '_Tomilina_'), ('kdstjxd', 'Arsenteva_katy'), ('sxdsrjnlkdlQ8eW', '_Tomilina_'), ('Kulishovaaa', 'Arsenteva_katy'), ('chepelevakatya', 'Arsenteva_katy'), ('chepelevakatya', '_Tomilina_'), ('ivan3816', '_Tomilina_'), ('k_chernenko', 'Arsenteva_katy'), ('Revenge5551', 'Arsenteva_katy'), ('ritok_bel', 'Arsenteva_katy'), ('malaiys', 'Arsenteva_katy'), ('Albertovna28', 'Arsenteva_katy'), ('Albertovna28', '_Tomilina_'), ('Komarova220899', '_Tomilina_'), ('Komarova220899', 'Arsenteva_katy'), ('apyatka28', 'Arsenteva_katy'), ('B3oYoYxgekCoOGg', 'Arsenteva_katy'), ('B3oYoYxgekCoOGg', '_Tomilina_'), ('mokretsova_38', '_Tomilina_'), ('baikaltourist', 'Arsenteva_katy'), ('LshvaykoShvaik', 'Arsenteva_katy'), ('Qn6J3', 'Arsenteva_katy'), ('xTMbWR6dU0iFhTv', '_Tomilina_'), ('kristi1279', 'Arsenteva_katy'), ('Kristina_2611', 'Arsenteva_katy'), ('diana895065', 'Arsenteva_katy'), ('di_138', 'Arsenteva_katy'), ('Fairytale500', 'Arsenteva_katy'), ('RafikBelyaev', 'Arsenteva_katy'), ('streltsova971', '_Tomilina_'), ('girl_bandit02', 'Arsenteva_katy'), ('Arsenteva_katy', 'BayA6XlcvyrHw9E'), ('Arsenteva_katy', '___Ruslan8907__'), ('Arsenteva_katy', 'nikolaevaelin'), ('Arsenteva_katy', 'kseniya17_01_01'), ('Arsenteva_katy', 'JIOXqEhx70ewR8v'), ('Arsenteva_katy', 'sosipisosxyisos'), ('Arsenteva_katy', 'edvardovna_a'), ('Arsenteva_katy', 'kirill_maloy1'), ('Arsenteva_katy', 'HONe2cCdhrAkMKA'), ('Arsenteva_katy', 'o3fy5rGOxQbi4mX'), ('Arsenteva_katy', 'VLDBRDN'), ('Arsenteva_katy', 'drakocha06'), ('Arsenteva_katy', 'HkvuVtbcc8nhBuj'), ('Arsenteva_katy', 'varvar0978'), ('Arsenteva_katy', '_auf9_'), ('Arsenteva_katy', 'KsyuRudometova'), ('Arsenteva_katy', 'ivakrias09'), ('Arsenteva_katy', '_Katya_30'), ('Arsenteva_katy', 'gar_anastas'), ('Arsenteva_katy', 'OlgaKoch'), ('Arsenteva_katy', 'shepinandrey'), ('Arsenteva_katy', 'Anya_Sabirova'), ('Arsenteva_katy', 'Aliexpress_Club'), ('Arsenteva_katy', 'NewEra228'), ('Arsenteva_katy', 'ivanry38'), ('Arsenteva_katy', 'mertvyy_mir'), ('Arsenteva_katy', 'panaceaevtanazi'), ('Arsenteva_katy', '_Tomilina_'), ('Arsenteva_katy', 'rozi_kkkkk'), ('Arsenteva_katy', 'Amin___007'), ('Arsenteva_katy', '23a0ARFf75jzDe5'), ('Arsenteva_katy', 'VmkrCel'), ('Arsenteva_katy', 'polina050586'), ('Arsenteva_katy', '7EyR6P5LEWFY3in'), ('Arsenteva_katy', 'dbcbcbcb'), ('Arsenteva_katy', 'Evhenia6'), ('Arsenteva_katy', 'freedomfck'), ('Arsenteva_katy', 'malenkaya__28'), ('Arsenteva_katy', 'ARSenteva555'), ('Arsenteva_katy', 'ylyaska28022004'), ('Arsenteva_katy', 'zlFmpTehyUp6raf'), ('Arsenteva_katy', 'b59a74b603fd496'), ('Arsenteva_katy', 'kristina1610202'), ('Arsenteva_katy', 'Ksusha1206'), ('Arsenteva_katy', 'Polina_Ivchenko'), ('Arsenteva_katy', '_pichalka_'), ('Arsenteva_katy', 'Antonovaaaa_'), ('Arsenteva_katy', 'ewwwaa_'), ('Arsenteva_katy', 'katya679845768'), ('Arsenteva_katy', 'anoryotsu74'), ('Arsenteva_katy', 'n_a_s_t_y_a00'), ('Arsenteva_katy', 'joesaratini'), ('Arsenteva_katy', 'gnk_10'), ('Arsenteva_katy', 'pozdnyak_01'), ('Arsenteva_katy', 'eremeev1917'), ('Arsenteva_katy', 'latysheva_kr'), ('Arsenteva_katy', 'timofeeva0903'), ('Arsenteva_katy', 'KiryShvecov'), ('Arsenteva_katy', 'Aleksa09854973'), ('Arsenteva_katy', 'Sokolova__16'), ('Arsenteva_katy', 'Kulakov_777'), ('Arsenteva_katy', 'galea2020'), ('Arsenteva_katy', 'Anastasia_20161'), ('Arsenteva_katy', '9Bo61iw99F663lC'), ('Arsenteva_katy', 'HaDqZ1xacigLDz2'), ('Arsenteva_katy', 'Kazankova2004'), ('Arsenteva_katy', 'ismailova001_'), ('Arsenteva_katy', 'stanislavovnak6'), ('Arsenteva_katy', '530f8c95635446d'), ('Arsenteva_katy', 'Veronyaaaaa'), ('Arsenteva_katy', 'Jyla_kazankova_'), ('skromno0', '_Tomilina_'), ('C97iiHHsvQoyOY2', '_Tomilina_'), ('Ira5932', '_Tomilina_'), ('ivakrias09', '_Tomilina_'), ('Leoni_Perov', '_Tomilina_'), ('ivanry38', '_Tomilina_'), ('NastyaLyulkova', '_Tomilina_'), ('Nigmanova3', '_Tomilina_'), ('_Tomilina_', 'choooopppa'), ('_Tomilina_', 'JIOXqEhx70ewR8v'), ('_Tomilina_', 'HONe2cCdhrAkMKA'), ('_Tomilina_', 'HaDqZ1xacigLDz2'), ('_Tomilina_', 'MyDr4v'), ('_Tomilina_', '666Sofya'), ('_Tomilina_', 'polina050586'), ('_Tomilina_', 'RT2wvM0zi74kUsY'), ('_Tomilina_', 'sobinastya'), ('_Tomilina_', 'malenkaya__28'), ('_Tomilina_', 'Leduhovskaya'), ('_Tomilina_', 'ARSenteva555'), ('_Tomilina_', 'Kristin05791944'), ('_Tomilina_', 'zlFmpTehyUp6raf'), ('_Tomilina_', 'id2215904271'), ('_Tomilina_', 'TanyaKim_22'), ('_Tomilina_', 'Polina_Ivchenko'), ('_Tomilina_', '_pichalka_'), ('_Tomilina_', 'kris_an_'), ('_Tomilina_', 'Koshka23082012'), ('_Tomilina_', 'topfixer38'), ('_Tomilina_', '27_ksenua'), ('_Tomilina_', 'unbrazz'), ('_Tomilina_', 'latysheva_kr'), ('_Tomilina_', 'timofeeva0903'), ('_Tomilina_', 'abramova114'), ('_Tomilina_', '9Bo61iw99F663lC'), ('_Tomilina_', 'ismailova001_'), ('_Tomilina_', '530f8c95635446d')]\n"
     ]
    }
   ],
   "source": [
    "print('Vertices in Known Bot: {}'.format(len(known_bot.nodes())))\n",
    "print('Vertices in Unknown 1: {}'.format(len(unknown_1.nodes())))\n",
    "print(known_bot.edges())\n"
   ]
  },
  {
   "cell_type": "markdown",
   "metadata": {},
   "source": [
    "Let's also plot slices of each graph.  But first, we need to induce subgraphs from each graph because there are probably too many vertices to make a good plot."
   ]
  },
  {
   "cell_type": "code",
   "execution_count": 18,
   "metadata": {},
   "outputs": [],
   "source": [
    "#Get slices (subsets) of each edge set.\n",
    "known_bot_end = int(0.1*len(known_bot.edges()))\n",
    "unknown_1_end = int(0.1*len(unknown_1.edges()))\n",
    "known_bot_edges_slice = list(known_bot.edges())[0:known_bot_end]\n",
    "unknown_1_edges_slice = list(unknown_1.edges())[0:unknown_1_end]\n",
    "\n",
    "#Induce subgraphs\n",
    "KB_sub = known_bot.edge_subgraph(known_bot_edges_slice)\n",
    "U1_sub = unknown_1.edge_subgraph(unknown_1_edges_slice)"
   ]
  },
  {
   "cell_type": "markdown",
   "metadata": {},
   "source": [
    "The known bot graph is quite large and will take a while to draw, so we will skip that one for now."
   ]
  },
  {
   "cell_type": "markdown",
   "metadata": {},
   "source": [
    "Let's plot the unknown 1 graph."
   ]
  },
  {
   "cell_type": "code",
   "execution_count": 19,
   "metadata": {},
   "outputs": [
    {
     "data": {
      "image/png": "[encoded data removed]",
      "text/plain": [
       "<Figure size 432x288 with 1 Axes>"
      ]
     },
     "metadata": {},
     "output_type": "display_data"
    }
   ],
   "source": [
    "nx.draw(U1_sub)\n",
    "plt.show()"
   ]
  },
  {
   "cell_type": "markdown",
   "metadata": {},
   "source": [
    "Now plot the known bot graph in the line below:"
   ]
  },
  {
   "cell_type": "code",
   "execution_count": 20,
   "metadata": {},
   "outputs": [
    {
     "data": {
      "text/plain": [
       "<function matplotlib.pyplot.show(*args, **kw)>"
      ]
     },
     "execution_count": 20,
     "metadata": {},
     "output_type": "execute_result"
    },
    {
     "data": {
      "image/png": "[encoded data removed]",
      "text/plain": [
       "<Figure size 432x288 with 1 Axes>"
      ]
     },
     "metadata": {},
     "output_type": "display_data"
    }
   ],
   "source": [
    "nx.draw(KB_sub)\n",
    "plt.show"
   ]
  },
  {
   "cell_type": "markdown",
   "metadata": {},
   "source": [
    "Now that you've loaded the graphs into memory, you need to calculate the centralities for each vertex in each graph."
   ]
  },
  {
   "cell_type": "code",
   "execution_count": 21,
   "metadata": {},
   "outputs": [],
   "source": [
    "known_bot_centralities = spectrum(known_bot)\n",
    "unknown_1_centralities = spectrum(unknown_1)"
   ]
  },
  {
   "cell_type": "markdown",
   "metadata": {},
   "source": [
    "Now calculate the clustering coefficients for each graph."
   ]
  },
  {
   "cell_type": "code",
   "execution_count": 22,
   "metadata": {},
   "outputs": [],
   "source": [
    "known_bot_cluster = clustering_coeff(known_bot)\n",
    "unknown_1_cluster = clustering_coeff(unknown_1)"
   ]
  },
  {
   "cell_type": "markdown",
   "metadata": {},
   "source": [
    "Let's analyze the clustering coefficients.  How similar are they?  What do they tell you about each graph?"
   ]
  },
  {
   "cell_type": "code",
   "execution_count": 31,
   "metadata": {},
   "outputs": [
    {
     "name": "stdout",
     "output_type": "stream",
     "text": [
      "Known Bot Clustering Coefficient: 0.20371874907173476\n",
      "Unknown 1 Clustering Coefficient: 0.07937480027928205\n"
     ]
    }
   ],
   "source": [
    "print('Known Bot Clustering Coefficient: {}'.format(known_bot_cluster))\n",
    "print('Unknown 1 Clustering Coefficient: {}'.format(unknown_1_cluster))\n"
   ]
  },
  {
   "cell_type": "markdown",
   "metadata": {},
   "source": [
    "Now we need to calculate the resonance between the graphs.  We have already calculated the betweenness centralites for each, which is required for the resonance calculation.  What does the resonance tell us?"
   ]
  },
  {
   "cell_type": "code",
   "execution_count": 24,
   "metadata": {},
   "outputs": [],
   "source": [
    "#Resonance between Known Bot and Unknown 1\n",
    "K_1_res = resonate(known_bot, known_bot_centralities, unknown_1, unknown_1_centralities)"
   ]
  },
  {
   "cell_type": "markdown",
   "metadata": {},
   "source": [
    "Now let's examine our resonance output."
   ]
  },
  {
   "cell_type": "code",
   "execution_count": 25,
   "metadata": {},
   "outputs": [
    {
     "name": "stdout",
     "output_type": "stream",
     "text": [
      "Resonance between Known Bot and Unknown 1: 0.9128869072090952\n"
     ]
    }
   ],
   "source": [
    "print('Resonance between Known Bot and Unknown 1: {}'.format(K_1_res))"
   ]
  },
  {
   "cell_type": "markdown",
   "metadata": {},
   "source": [
    "Now let's explore the communities in each graph."
   ]
  },
  {
   "cell_type": "code",
   "execution_count": 26,
   "metadata": {},
   "outputs": [],
   "source": [
    "Known_Bot_Communities = get_communities(known_bot)\n",
    "Unknown_1_Communities = get_communities(unknown_1)"
   ]
  },
  {
   "cell_type": "markdown",
   "metadata": {},
   "source": [
    "Now, let's examine our communities output."
   ]
  },
  {
   "cell_type": "code",
   "execution_count": 27,
   "metadata": {},
   "outputs": [
    {
     "name": "stdout",
     "output_type": "stream",
     "text": [
      "Known Bot Communities\n",
      "240\n",
      "143\n",
      "75\n",
      "46\n",
      "39\n",
      "=====================\n",
      "Unknown 1 Communities\n",
      "303\n",
      "75\n",
      "43\n",
      "38\n"
     ]
    }
   ],
   "source": [
    "print('Known Bot Communities')\n",
    "for community in Known_Bot_Communities:\n",
    "    print(len(community))\n",
    "print('=====================')\n",
    "\n",
    "print('Unknown 1 Communities')\n",
    "for community in Unknown_1_Communities:\n",
    "    print(len(community))"
   ]
  },
  {
   "cell_type": "markdown",
   "metadata": {},
   "source": [
    "Use your output to answer the questions on the activity handout."
   ]
  },
  {
   "cell_type": "markdown",
   "metadata": {},
   "source": [
    "***Now save your output.  Go to File -> Print Preview and save your final output as a PDF.  Turn in to your Instructor, along with any additional sheets."
   ]
  }
 ],
 "metadata": {
  "kernelspec": {
   "display_name": "Python 3",
   "language": "python",
   "name": "python3"
  },
  "language_info": {
   "codemirror_mode": {
    "name": "ipython",
    "version": 3
   },
   "file_extension": ".py",
   "mimetype": "text/x-python",
   "name": "python",
   "nbconvert_exporter": "python",
   "pygments_lexer": "ipython3",
   "version": "3.8.3"
  }
 },
 "nbformat": 4,
 "nbformat_minor": 2
}
