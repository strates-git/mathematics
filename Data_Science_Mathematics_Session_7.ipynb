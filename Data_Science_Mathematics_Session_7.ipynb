{
 "cells": [
  {
   "cell_type": "markdown",
   "metadata": {},
   "source": [
    "# Data Science Mathematics\n",
    "# Social Network Analysis\n",
    "# In-Class Activity"
   ]
  },
  {
   "cell_type": "markdown",
   "metadata": {},
   "source": [
    "Refer to the handout for a description of this activity.\n",
    "\n",
    "You will analyze the two ego graphs provided.  One is a known Russian bot, and the other is unknown.  Based on graph resonance, determine if the unknown graph is likely to be a military person.  You will also calculate the clustering coefficients for each graph, and enumerate the communities.\n",
    "\n",
    "First, import the relevant libraries."
   ]
  },
  {
   "cell_type": "markdown",
   "metadata": {},
   "source": [
    "#1 a) Resonance quantifies similarity between graphs\n",
    "<BR>\n",
    "b) Network Centralities: calculated in code<BR>\n",
    "    <br>\n",
    "   Clustering Coefficients: Known Bot Clustering Coefficient: 0.20371874907173476\n",
    "                            Unknown 1 Clustering Coefficient: 0.07937480027928205\n",
    "    <br>\n",
    "   Communities:  Known Bot Communities\n",
    "                 240\n",
    "                 143\n",
    "                 75\n",
    "                 46\n",
    "                 39\n",
    "                 \n",
    "                 Unknown 1 Communities\n",
    "                 303\n",
    "                 75\n",
    "                 43\n",
    "                 38\n",
    "<BR>\n",
    "c) The most likely assesment is that the unknown network is also a bot, given the high resonance between the known bot graph and the unknown graph. \n",
    "\n",
    "d) From what I know of Twitter, follower status is a sign of a connection for a human user (assumption being that a bot could be programmed to randomly follow any given twitter user). However, I would argue it isn't sufficient for this type of analysis in general. Following does not indicate level of engagement, which could be added to the graph via some sort of weighting metric. Also, directionality could indicate connection more realistically (i.e. an ego graph that shows all one directional connec"
   ]
  },
  {
   "cell_type": "code",
   "execution_count": 2,
   "metadata": {},
   "outputs": [],
   "source": [
    "import networkx as nx\n",
    "import pickle\n",
    "import os\n",
    "import math\n",
    "import matplotlib.pyplot as plt\n",
    "import numpy as np"
   ]
  },
  {
   "cell_type": "markdown",
   "metadata": {},
   "source": [
    "The graph objects have been serialized.  Build a function to load them into memory using pickle."
   ]
  },
  {
   "cell_type": "code",
   "execution_count": 24,
   "metadata": {},
   "outputs": [],
   "source": [
    "#open pickle file\n",
    "def open_pickle(pickle_path):\n",
    "    with open(pickle_path, 'rb') as pickle_file:\n",
    "        object_name = pickle.load(pickle_file)\n",
    "    return object_name"
   ]
  },
  {
   "cell_type": "markdown",
   "metadata": {},
   "source": [
    "You will have to calculate the resonance for all vertices in your ego graphs.  Define a function to calculate the betweenness centralities for all vertices."
   ]
  },
  {
   "cell_type": "code",
   "execution_count": 4,
   "metadata": {},
   "outputs": [],
   "source": [
    "#Get betweenness centrality\n",
    "def spectrum(G):\n",
    "    centrality = nx.betweenness_centrality(G)\n",
    "    return centrality"
   ]
  },
  {
   "cell_type": "markdown",
   "metadata": {},
   "source": [
    "Now, define a function for calculating graph resonance."
   ]
  },
  {
   "cell_type": "code",
   "execution_count": 5,
   "metadata": {},
   "outputs": [],
   "source": [
    "#Calculate graph resonance between graphs G1 and G2, with resonances S1 and S2, respectively\n",
    "def resonate(G1, S1, G2, S2):\n",
    "    res_divisor_1 = sum([a**2 for a in S1.values()])\n",
    "    res_divisor_2 = sum([a**2 for a in S2.values()])\n",
    "    res_divisor = math.sqrt(res_divisor_1*res_divisor_2)\n",
    "    if res_divisor == 0:\n",
    "        resonance = 0.0\n",
    "    else:\n",
    "        G1_nodes = G1.nodes()\n",
    "        G2_nodes = G2.nodes()\n",
    "        G_intersect = list(set(G1_nodes) & set(G2_nodes))\n",
    "        if len(G_intersect) != 0:\n",
    "            S1_list = [S1[node] for node in G_intersect]\n",
    "            S1_array = np.array(S1_list)\n",
    "            S2_list = [S2[node] for node in G_intersect]\n",
    "            S2_array = np.array(S2_list)\n",
    "            resonance_raw = np.dot(S1_array, S2_array)\n",
    "            resonance = resonance_raw/res_divisor\n",
    "        else:\n",
    "            resonance = 0.0\n",
    "    return resonance"
   ]
  },
  {
   "cell_type": "markdown",
   "metadata": {},
   "source": [
    "It is important to know the clustering coefficients for each graph.  You should define a function for that."
   ]
  },
  {
   "cell_type": "code",
   "execution_count": 6,
   "metadata": {},
   "outputs": [],
   "source": [
    "#Calculate clustering coefficient for graph G\n",
    "def clustering_coeff(G):\n",
    "    c = nx.average_clustering(G)\n",
    "    return c"
   ]
  },
  {
   "cell_type": "markdown",
   "metadata": {},
   "source": [
    "You will also want to enumerate the communities in each graph.  Let's define a function to use the Clauset-Newman-Moore algorithm for community detection."
   ]
  },
  {
   "cell_type": "code",
   "execution_count": 7,
   "metadata": {},
   "outputs": [],
   "source": [
    "#Community detection\n",
    "def get_communities(G):\n",
    "    from networkx.algorithms.community import greedy_modularity_communities\n",
    "    communities = list(greedy_modularity_communities(G))\n",
    "    return communities"
   ]
  },
  {
   "cell_type": "markdown",
   "metadata": {},
   "source": [
    "Now that you've defined all your functions, let's import the graphs.  Specify the absolute paths of your ego graphs."
   ]
  },
  {
   "cell_type": "code",
   "execution_count": 16,
   "metadata": {},
   "outputs": [],
   "source": [
    "#Note that you have to specify the absolute paths yourself for the graphs associated with this exercise\n",
    "#Here is an example:\n",
    "#r'C:\\Directory1\\Directory2\\File_Name.pkl'\n",
    "\n",
    "known_bot_path = 'known_bot2_Session7.pkl'\n",
    "unknown_path_1 = 'Unknown_1_Session7.pkl'"
   ]
  },
  {
   "cell_type": "markdown",
   "metadata": {},
   "source": [
    "Now let's load each graph."
   ]
  },
  {
   "cell_type": "code",
   "execution_count": 25,
   "metadata": {},
   "outputs": [
    {
     "ename": "ModuleNotFoundError",
     "evalue": "No module named 'copy_reg\\r'",
     "output_type": "error",
     "traceback": [
      "\u001b[1;31m---------------------------------------------------------------------------\u001b[0m",
      "\u001b[1;31mModuleNotFoundError\u001b[0m                       Traceback (most recent call last)",
      "\u001b[1;32m<ipython-input-25-6636d5b232b5>\u001b[0m in \u001b[0;36m<module>\u001b[1;34m\u001b[0m\n\u001b[1;32m----> 1\u001b[1;33m \u001b[0mknown_bot\u001b[0m \u001b[1;33m=\u001b[0m \u001b[0mopen_pickle\u001b[0m\u001b[1;33m(\u001b[0m\u001b[0mknown_bot_path\u001b[0m\u001b[1;33m)\u001b[0m\u001b[1;33m\u001b[0m\u001b[1;33m\u001b[0m\u001b[0m\n\u001b[0m\u001b[0;32m      2\u001b[0m \u001b[0munknown_1\u001b[0m \u001b[1;33m=\u001b[0m \u001b[0mopen_pickle\u001b[0m\u001b[1;33m(\u001b[0m\u001b[0munknown_path_1\u001b[0m\u001b[1;33m)\u001b[0m\u001b[1;33m\u001b[0m\u001b[1;33m\u001b[0m\u001b[0m\n",
      "\u001b[1;32m<ipython-input-24-ce585ab50250>\u001b[0m in \u001b[0;36mopen_pickle\u001b[1;34m(pickle_path)\u001b[0m\n\u001b[0;32m      2\u001b[0m \u001b[1;32mdef\u001b[0m \u001b[0mopen_pickle\u001b[0m\u001b[1;33m(\u001b[0m\u001b[0mpickle_path\u001b[0m\u001b[1;33m)\u001b[0m\u001b[1;33m:\u001b[0m\u001b[1;33m\u001b[0m\u001b[1;33m\u001b[0m\u001b[0m\n\u001b[0;32m      3\u001b[0m     \u001b[1;32mwith\u001b[0m \u001b[0mopen\u001b[0m\u001b[1;33m(\u001b[0m\u001b[0mpickle_path\u001b[0m\u001b[1;33m,\u001b[0m \u001b[1;34m'rb'\u001b[0m\u001b[1;33m)\u001b[0m \u001b[1;32mas\u001b[0m \u001b[0mpickle_file\u001b[0m\u001b[1;33m:\u001b[0m\u001b[1;33m\u001b[0m\u001b[1;33m\u001b[0m\u001b[0m\n\u001b[1;32m----> 4\u001b[1;33m         \u001b[0mobject_name\u001b[0m \u001b[1;33m=\u001b[0m \u001b[0mpickle\u001b[0m\u001b[1;33m.\u001b[0m\u001b[0mload\u001b[0m\u001b[1;33m(\u001b[0m\u001b[0mpickle_file\u001b[0m\u001b[1;33m)\u001b[0m\u001b[1;33m\u001b[0m\u001b[1;33m\u001b[0m\u001b[0m\n\u001b[0m\u001b[0;32m      5\u001b[0m     \u001b[1;32mreturn\u001b[0m \u001b[0mobject_name\u001b[0m\u001b[1;33m\u001b[0m\u001b[1;33m\u001b[0m\u001b[0m\n",
      "\u001b[1;31mModuleNotFoundError\u001b[0m: No module named 'copy_reg\\r'"
     ]
    }
   ],
   "source": [
    "known_bot = open_pickle(known_bot_path)\n",
    "unknown_1 = open_pickle(unknown_path_1)"
   ]
  },
  {
   "cell_type": "markdown",
   "metadata": {},
   "source": [
    "Let's explore our graphs a bit.  How many nodes (vertices) are in each one?  What does this mean?"
   ]
  },
  {
   "cell_type": "code",
   "execution_count": null,
   "metadata": {},
   "outputs": [],
   "source": [
    "print('Vertices in Known Bot: {}'.format(len(known_bot.nodes())))\n",
    "print('Vertices in Unknown 1: {}'.format(len(unknown_1.nodes())))\n",
    "#print(known_bot.edges())\n"
   ]
  },
  {
   "cell_type": "markdown",
   "metadata": {},
   "source": [
    "Let's also plot slices of each graph.  But first, we need to induce subgraphs from each graph because there are probably too many vertices to make a good plot."
   ]
  },
  {
   "cell_type": "code",
   "execution_count": null,
   "metadata": {},
   "outputs": [],
   "source": [
    "#Get slices (subsets) of each edge set.\n",
    "known_bot_end = int(0.1*len(known_bot.edges()))\n",
    "unknown_1_end = int(0.1*len(unknown_1.edges()))\n",
    "known_bot_edges_slice = list(known_bot.edges())[0:known_bot_end]\n",
    "unknown_1_edges_slice = list(unknown_1.edges())[0:unknown_1_end]\n",
    "\n",
    "#Induce subgraphs\n",
    "KB_sub = known_bot.edge_subgraph(known_bot_edges_slice)\n",
    "U1_sub = unknown_1.edge_subgraph(unknown_1_edges_slice)"
   ]
  },
  {
   "cell_type": "markdown",
   "metadata": {},
   "source": [
    "The known bot graph is quite large and will take a while to draw, so we will skip that one for now."
   ]
  },
  {
   "cell_type": "markdown",
   "metadata": {},
   "source": [
    "Let's plot the unknown 1 graph."
   ]
  },
  {
   "cell_type": "code",
   "execution_count": null,
   "metadata": {},
   "outputs": [],
   "source": [
    "nx.draw(U1_sub)\n",
    "plt.show()"
   ]
  },
  {
   "cell_type": "markdown",
   "metadata": {},
   "source": [
    "Now plot the known bot graph in the line below:"
   ]
  },
  {
   "cell_type": "code",
   "execution_count": null,
   "metadata": {},
   "outputs": [],
   "source": [
    "nx.draw(KB_sub)\n",
    "plt.show"
   ]
  },
  {
   "cell_type": "markdown",
   "metadata": {},
   "source": [
    "Now that you've loaded the graphs into memory, you need to calculate the centralities for each vertex in each graph."
   ]
  },
  {
   "cell_type": "code",
   "execution_count": null,
   "metadata": {},
   "outputs": [],
   "source": [
    "known_bot_centralities = spectrum(known_bot)\n",
    "unknown_1_centralities = spectrum(unknown_1)"
   ]
  },
  {
   "cell_type": "markdown",
   "metadata": {},
   "source": [
    "Now calculate the clustering coefficients for each graph."
   ]
  },
  {
   "cell_type": "code",
   "execution_count": null,
   "metadata": {},
   "outputs": [],
   "source": [
    "known_bot_cluster = clustering_coeff(known_bot)\n",
    "unknown_1_cluster = clustering_coeff(unknown_1)"
   ]
  },
  {
   "cell_type": "markdown",
   "metadata": {},
   "source": [
    "Let's analyze the clustering coefficients.  How similar are they?  What do they tell you about each graph?"
   ]
  },
  {
   "cell_type": "code",
   "execution_count": null,
   "metadata": {},
   "outputs": [],
   "source": [
    "print('Known Bot Clustering Coefficient: {}'.format(known_bot_cluster))\n",
    "print('Unknown 1 Clustering Coefficient: {}'.format(unknown_1_cluster))\n"
   ]
  },
  {
   "cell_type": "markdown",
   "metadata": {},
   "source": [
    "Now we need to calculate the resonance between the graphs.  We have already calculated the betweenness centralites for each, which is required for the resonance calculation.  What does the resonance tell us?"
   ]
  },
  {
   "cell_type": "code",
   "execution_count": null,
   "metadata": {},
   "outputs": [],
   "source": [
    "#Resonance between Known Bot and Unknown 1\n",
    "K_1_res = resonate(known_bot, known_bot_centralities, unknown_1, unknown_1_centralities)"
   ]
  },
  {
   "cell_type": "markdown",
   "metadata": {},
   "source": [
    "Now let's examine our resonance output."
   ]
  },
  {
   "cell_type": "code",
   "execution_count": null,
   "metadata": {},
   "outputs": [],
   "source": [
    "print('Resonance between Known Bot and Unknown 1: {}'.format(K_1_res))"
   ]
  },
  {
   "cell_type": "markdown",
   "metadata": {},
   "source": [
    "Now let's explore the communities in each graph."
   ]
  },
  {
   "cell_type": "code",
   "execution_count": null,
   "metadata": {},
   "outputs": [],
   "source": [
    "Known_Bot_Communities = get_communities(known_bot)\n",
    "Unknown_1_Communities = get_communities(unknown_1)"
   ]
  },
  {
   "cell_type": "markdown",
   "metadata": {},
   "source": [
    "Now, let's examine our communities output."
   ]
  },
  {
   "cell_type": "code",
   "execution_count": null,
   "metadata": {},
   "outputs": [],
   "source": [
    "print('Known Bot Communities')\n",
    "for community in Known_Bot_Communities:\n",
    "    print(len(community))\n",
    "print('=====================')\n",
    "\n",
    "print('Unknown 1 Communities')\n",
    "for community in Unknown_1_Communities:\n",
    "    print(len(community))"
   ]
  },
  {
   "cell_type": "markdown",
   "metadata": {},
   "source": [
    "Use your output to answer the questions on the activity handout."
   ]
  },
  {
   "cell_type": "markdown",
   "metadata": {},
   "source": [
    "***Now save your output.  Go to File -> Print Preview and save your final output as a PDF.  Turn in to your Instructor, along with any additional sheets."
   ]
  }
 ],
 "metadata": {
  "kernelspec": {
   "display_name": "Python 3",
   "language": "python",
   "name": "python3"
  },
  "language_info": {
   "codemirror_mode": {
    "name": "ipython",
    "version": 3
   },
   "file_extension": ".py",
   "mimetype": "text/x-python",
   "name": "python",
   "nbconvert_exporter": "python",
   "pygments_lexer": "ipython3",
   "version": "3.7.7"
  }
 },
 "nbformat": 4,
 "nbformat_minor": 2
}
