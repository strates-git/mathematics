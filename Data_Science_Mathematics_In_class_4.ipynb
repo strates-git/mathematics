{
 "cells": [
  {
   "cell_type": "code",
   "execution_count": 12,
   "metadata": {},
   "outputs": [],
   "source": [
    "import numpy as np\n",
    "import matplotlib.pyplot as plt\n",
    "import random\n",
    "%matplotlib inline"
   ]
  },
  {
   "cell_type": "code",
   "execution_count": 13,
   "metadata": {},
   "outputs": [],
   "source": [
    "x1 = [5,1,3,7]\n",
    "y1 = [4,5,2,9]\n",
    "\n",
    "x2 = [1,4,10]\n",
    "y2 = [4,6,20]\n",
    "z2 = [5,5,20]\n",
    "\n"
   ]
  },
  {
   "cell_type": "code",
   "execution_count": 14,
   "metadata": {},
   "outputs": [],
   "source": [
    "# Calculate the Centroids ~ Slide 21)\n",
    "def centroid(data):\n",
    "    '''\n",
    "    Requires a list of n dimensions where each dimesion is its own list\n",
    "    '''\n",
    "    centroids = []\n",
    "    for dat in data: \n",
    "        centroids.append(round(sum(dat)/len(dat),2))\n",
    "    \n",
    "    return centroids\n",
    "        "
   ]
  },
  {
   "cell_type": "code",
   "execution_count": 15,
   "metadata": {},
   "outputs": [
    {
     "name": "stdout",
     "output_type": "stream",
     "text": [
      "[4.0, 5.0]\n"
     ]
    }
   ],
   "source": [
    "print(centroid([x1,y1]))"
   ]
  },
  {
   "cell_type": "code",
   "execution_count": 16,
   "metadata": {},
   "outputs": [
    {
     "name": "stdout",
     "output_type": "stream",
     "text": [
      "[5.0, 10.0, 10.0]\n"
     ]
    }
   ],
   "source": [
    "print(centroid([x2,y2,z2]))"
   ]
  },
  {
   "cell_type": "code",
   "execution_count": 17,
   "metadata": {},
   "outputs": [],
   "source": [
    "#Cluster points around a centroid ---Slide 32\n",
    "x3 = [1,3,5,9,1,0,10]\n",
    "y3 = [4,2,8,10,1,2,7]\n",
    "cent1 = [2,2]\n",
    "cent2 = [8,10]"
   ]
  },
  {
   "cell_type": "code",
   "execution_count": 18,
   "metadata": {},
   "outputs": [],
   "source": [
    "def calc_distance(centers, points):\n",
    "    \"\"\"Takes list of points and centers\"\"\"\n",
    "    #Make empty list for number of centroids\n",
    "    distances = []\n",
    "    \n",
    "    for i in range(len(centers)):\n",
    "        distances.append([])\n",
    "    \n",
    "    num_dimensions = len(points)\n",
    "        \n",
    "    for cen in range(len(centers)):\n",
    "        for loc in range(len(points[0])):\n",
    "            dist = round(np.sqrt((centers[cen][0]-points[0][loc])**2 + (centers[cen][1]-points[1][loc])**2),2)\n",
    "            distances[cen].append(dist)\n",
    "    \n",
    "    return distances\n",
    "            \n",
    "        \n",
    "            \n",
    "    "
   ]
  },
  {
   "cell_type": "code",
   "execution_count": 19,
   "metadata": {},
   "outputs": [
    {
     "data": {
      "text/plain": [
       "[[2.24, 1.0, 6.71, 10.63, 1.41, 2.0, 9.43],\n",
       " [9.22, 9.43, 3.61, 1.0, 11.4, 11.31, 3.61]]"
      ]
     },
     "execution_count": 19,
     "metadata": {},
     "output_type": "execute_result"
    }
   ],
   "source": [
    "distance = calc_distance([cent1,cent2], [x3,y3])\n",
    "distance"
   ]
  },
  {
   "cell_type": "code",
   "execution_count": 20,
   "metadata": {},
   "outputs": [],
   "source": [
    "def calc_closer(centers, distances,points): \n",
    "    new_sets = [[[],[]] for _ in range(len(centers))]\n",
    "        \n",
    "    #create an intermediate set of centroids: \n",
    "    for i in range(len(distances[0])):\n",
    "        cents_to_points = []\n",
    "        for dist in distances: \n",
    "            cents_to_points.append(dist[i])\n",
    "        val, idx = min((val, idx) for (idx, val) in enumerate(cents_to_points))\n",
    "        new_sets[idx][0].append(points[0][i])\n",
    "        new_sets[idx][1].append(points[1][i])\n",
    "    return new_sets\n",
    "                   \n",
    "\n",
    "    \n",
    "            "
   ]
  },
  {
   "cell_type": "code",
   "execution_count": 21,
   "metadata": {},
   "outputs": [
    {
     "data": {
      "text/plain": [
       "[[[1, 3, 1, 0], [4, 2, 1, 2]], [[5, 9, 10], [8, 10, 7]]]"
      ]
     },
     "execution_count": 21,
     "metadata": {},
     "output_type": "execute_result"
    }
   ],
   "source": [
    "new_sets = calc_closer([cent1,cent2], distance, [x3,y3])\n",
    "new_sets"
   ]
  },
  {
   "cell_type": "code",
   "execution_count": 22,
   "metadata": {},
   "outputs": [
    {
     "name": "stdout",
     "output_type": "stream",
     "text": [
      "[2, 2] [8, 10]\n",
      "[1.25, 2.25] [8.0, 8.33]\n",
      "[1.25, 2.25] [8.0, 8.33]\n"
     ]
    }
   ],
   "source": [
    "for i in range(3):\n",
    "    print (cent1, cent2)\n",
    "    distance = calc_distance([cent1,cent2], [x3,y3])\n",
    "    new_sets = calc_closer([cent1,cent2], distance, [x3,y3])\n",
    "    cent1 = centroid(new_sets[0])\n",
    "    cent2 = centroid(new_sets[1])\n",
    "    "
   ]
  },
  {
   "cell_type": "code",
   "execution_count": null,
   "metadata": {},
   "outputs": [],
   "source": []
  },
  {
   "cell_type": "code",
   "execution_count": null,
   "metadata": {},
   "outputs": [],
   "source": []
  },
  {
   "cell_type": "code",
   "execution_count": null,
   "metadata": {},
   "outputs": [],
   "source": []
  }
 ],
 "metadata": {
  "kernelspec": {
   "display_name": "Python 3",
   "language": "python",
   "name": "python3"
  },
  "language_info": {
   "codemirror_mode": {
    "name": "ipython",
    "version": 3
   },
   "file_extension": ".py",
   "mimetype": "text/x-python",
   "name": "python",
   "nbconvert_exporter": "python",
   "pygments_lexer": "ipython3",
   "version": "3.7.6"
  }
 },
 "nbformat": 4,
 "nbformat_minor": 4
}
