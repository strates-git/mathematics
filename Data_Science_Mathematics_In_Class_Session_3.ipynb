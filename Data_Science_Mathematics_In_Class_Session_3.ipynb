{
 "cells": [
  {
   "cell_type": "code",
   "execution_count": 1,
   "metadata": {},
   "outputs": [],
   "source": [
    "import numpy as np"
   ]
  },
  {
   "cell_type": "markdown",
   "metadata": {},
   "source": [
    "### In Class: \n",
    "   ### Problem 1: Simple Linear Regression - Calculate the Sample Correlation Coefficient"
   ]
  },
  {
   "cell_type": "code",
   "execution_count": 54,
   "metadata": {},
   "outputs": [],
   "source": [
    "x = [1,3,5,7,9]\n",
    "y = [2,6,10,14,18]"
   ]
  },
  {
   "cell_type": "code",
   "execution_count": 43,
   "metadata": {},
   "outputs": [
    {
     "data": {
      "text/plain": [
       "5.0"
      ]
     },
     "execution_count": 43,
     "metadata": {},
     "output_type": "execute_result"
    }
   ],
   "source": [
    "#Calculate average of x\n",
    "x_bar = np.mean(x)\n",
    "x_bar"
   ]
  },
  {
   "cell_type": "code",
   "execution_count": 44,
   "metadata": {},
   "outputs": [
    {
     "data": {
      "text/plain": [
       "3.16"
      ]
     },
     "execution_count": 44,
     "metadata": {},
     "output_type": "execute_result"
    }
   ],
   "source": [
    "#Calculate standard deviation of x\n",
    "S_x = round(np.std(x, ddof = 1),2)\n",
    "S_x"
   ]
  },
  {
   "cell_type": "code",
   "execution_count": 45,
   "metadata": {},
   "outputs": [
    {
     "data": {
      "text/plain": [
       "10.0"
      ]
     },
     "execution_count": 45,
     "metadata": {},
     "output_type": "execute_result"
    }
   ],
   "source": [
    "#Calculate average of y\n",
    "y_bar = np.mean(y)\n",
    "y_bar"
   ]
  },
  {
   "cell_type": "code",
   "execution_count": 46,
   "metadata": {},
   "outputs": [
    {
     "data": {
      "text/plain": [
       "6.32"
      ]
     },
     "execution_count": 46,
     "metadata": {},
     "output_type": "execute_result"
    }
   ],
   "source": [
    "#Calculate standard devaition of y\n",
    "S_y = round(np.std(y, ddof = 1),2)\n",
    "S_y"
   ]
  },
  {
   "cell_type": "code",
   "execution_count": 47,
   "metadata": {},
   "outputs": [
    {
     "data": {
      "text/plain": [
       "10.0"
      ]
     },
     "execution_count": 47,
     "metadata": {},
     "output_type": "execute_result"
    }
   ],
   "source": [
    "#Calculate variance of x\n",
    "x_var = np.var(x, ddof=1)\n",
    "x_var"
   ]
  },
  {
   "cell_type": "code",
   "execution_count": 48,
   "metadata": {},
   "outputs": [
    {
     "data": {
      "text/plain": [
       "20.0"
      ]
     },
     "execution_count": 48,
     "metadata": {},
     "output_type": "execute_result"
    }
   ],
   "source": [
    "#Covariance the long way\n",
    "sigma_xy = 0\n",
    "for i in range(len(x)): \n",
    "    sigma_xy += ((x[i] - x_bar)*(y[i] - y_bar))\n",
    "\n",
    "cov = sigma_xy/(len(x)-1)\n",
    "    \n",
    "cov"
   ]
  },
  {
   "cell_type": "code",
   "execution_count": 49,
   "metadata": {},
   "outputs": [
    {
     "name": "stdout",
     "output_type": "stream",
     "text": [
      "Format list so numpy can process [[1, 3, 5, 7, 9], [2, 6, 10, 14, 18]]\n"
     ]
    },
    {
     "data": {
      "text/plain": [
       "array([[10., 20.],\n",
       "       [20., 40.]])"
      ]
     },
     "execution_count": 49,
     "metadata": {},
     "output_type": "execute_result"
    }
   ],
   "source": [
    "#covarainnce the short way\n",
    "xandy = [x,y]\n",
    "print(\"Format list so numpy can process\", xandy)\n",
    "cov2 = np.cov(xandy)\n",
    "cov2"
   ]
  },
  {
   "cell_type": "code",
   "execution_count": 50,
   "metadata": {},
   "outputs": [
    {
     "data": {
      "text/plain": [
       "1.0"
      ]
     },
     "execution_count": 50,
     "metadata": {},
     "output_type": "execute_result"
    }
   ],
   "source": [
    "#Calculate the correlation coeffeicient\n",
    "r_xy = (cov/x_var)*(S_x/S_y)\n",
    "r_xy"
   ]
  },
  {
   "cell_type": "code",
   "execution_count": 51,
   "metadata": {},
   "outputs": [
    {
     "data": {
      "text/plain": [
       "array([[1., 1.],\n",
       "       [1., 1.]])"
      ]
     },
     "execution_count": 51,
     "metadata": {},
     "output_type": "execute_result"
    }
   ],
   "source": [
    "#Or in one line using numpy \n",
    "cocoeff = np.corrcoef(x,y)\n",
    "cocoeff"
   ]
  },
  {
   "cell_type": "code",
   "execution_count": 52,
   "metadata": {},
   "outputs": [
    {
     "data": {
      "text/plain": [
       "[-2, -6, -10, -14, -18]"
      ]
     },
     "execution_count": 52,
     "metadata": {},
     "output_type": "execute_result"
    }
   ],
   "source": [
    "#Change the y values by multiplying by -1\n",
    "for i in range(len(y)):\n",
    "    y[i] = y[i] * -1\n",
    "y"
   ]
  },
  {
   "cell_type": "code",
   "execution_count": 53,
   "metadata": {},
   "outputs": [
    {
     "data": {
      "text/plain": [
       "array([[ 1., -1.],\n",
       "       [-1.,  1.]])"
      ]
     },
     "execution_count": 53,
     "metadata": {},
     "output_type": "execute_result"
    }
   ],
   "source": [
    "cocoeff2 = np.corrcoef(x,y)\n",
    "cocoeff2"
   ]
  },
  {
   "cell_type": "markdown",
   "metadata": {},
   "source": [
    "### Problem 2: Linearize an exponential function "
   ]
  },
  {
   "cell_type": "code",
   "execution_count": 60,
   "metadata": {},
   "outputs": [],
   "source": [
    "x = [0.1,0.3,0.5,0.7,0.9]\n",
    "y = [7.288475201562036,24.19858985765178,80.34214769275067,266.7453241637004,885.6256648167487]"
   ]
  },
  {
   "cell_type": "code",
   "execution_count": 62,
   "metadata": {},
   "outputs": [
    {
     "data": {
      "text/plain": [
       "[1.9862943611198907,\n",
       " 3.1862943611198906,\n",
       " 4.386294361119891,\n",
       " 5.58629436111989,\n",
       " 6.786294361119891]"
      ]
     },
     "execution_count": 62,
     "metadata": {},
     "output_type": "execute_result"
    }
   ],
   "source": [
    "# Linearize y\n",
    "ln_y = []\n",
    "for i in y: \n",
    "    ln_y.append(np.log(i))\n",
    "ln_y"
   ]
  },
  {
   "cell_type": "code",
   "execution_count": 64,
   "metadata": {},
   "outputs": [
    {
     "data": {
      "text/plain": [
       "0.5"
      ]
     },
     "execution_count": 64,
     "metadata": {},
     "output_type": "execute_result"
    }
   ],
   "source": [
    "x_bar = np.mean(x)\n",
    "x_bar"
   ]
  },
  {
   "cell_type": "code",
   "execution_count": 67,
   "metadata": {},
   "outputs": [
    {
     "data": {
      "text/plain": [
       "4.39"
      ]
     },
     "execution_count": 67,
     "metadata": {},
     "output_type": "execute_result"
    }
   ],
   "source": [
    "y_bar = round(np.mean(ln_y),2)\n",
    "y_bar"
   ]
  },
  {
   "cell_type": "code",
   "execution_count": 71,
   "metadata": {},
   "outputs": [
    {
     "data": {
      "text/plain": [
       "0.32"
      ]
     },
     "execution_count": 71,
     "metadata": {},
     "output_type": "execute_result"
    }
   ],
   "source": [
    "S_x = round(np.std(x, ddof=1),2)\n",
    "S_x"
   ]
  },
  {
   "cell_type": "code",
   "execution_count": 72,
   "metadata": {},
   "outputs": [
    {
     "data": {
      "text/plain": [
       "1.9"
      ]
     },
     "execution_count": 72,
     "metadata": {},
     "output_type": "execute_result"
    }
   ],
   "source": [
    "S_y = round(np.std(ln_y, ddof=1),2)\n",
    "S_y"
   ]
  },
  {
   "cell_type": "code",
   "execution_count": 73,
   "metadata": {},
   "outputs": [
    {
     "data": {
      "text/plain": [
       "0.1"
      ]
     },
     "execution_count": 73,
     "metadata": {},
     "output_type": "execute_result"
    }
   ],
   "source": [
    "x_var = np.var(x, ddof=1)\n",
    "x_var"
   ]
  },
  {
   "cell_type": "code",
   "execution_count": 74,
   "metadata": {},
   "outputs": [
    {
     "data": {
      "text/plain": [
       "0.6000000000000001"
      ]
     },
     "execution_count": 74,
     "metadata": {},
     "output_type": "execute_result"
    }
   ],
   "source": [
    "sigma_xy = 0\n",
    "for i in range(len(x)): \n",
    "    sigma_xy += ((x[i] - x_bar)*(ln_y[i] - y_bar))\n",
    "\n",
    "cov = sigma_xy/(len(x)-1)\n",
    "    \n",
    "cov"
   ]
  },
  {
   "cell_type": "code",
   "execution_count": 75,
   "metadata": {},
   "outputs": [
    {
     "name": "stdout",
     "output_type": "stream",
     "text": [
      "Format list so numpy can process [[0.1, 0.3, 0.5, 0.7, 0.9], [1.9862943611198907, 3.1862943611198906, 4.386294361119891, 5.58629436111989, 6.786294361119891]]\n"
     ]
    },
    {
     "data": {
      "text/plain": [
       "array([[0.1, 0.6],\n",
       "       [0.6, 3.6]])"
      ]
     },
     "execution_count": 75,
     "metadata": {},
     "output_type": "execute_result"
    }
   ],
   "source": [
    "#covarainnce the short way\n",
    "xandy = [x,ln_y]\n",
    "print(\"Format list so numpy can process\", xandy)\n",
    "cov2 = np.cov(xandy)\n",
    "cov2"
   ]
  },
  {
   "cell_type": "code",
   "execution_count": 78,
   "metadata": {},
   "outputs": [
    {
     "data": {
      "text/plain": [
       "6.0"
      ]
     },
     "execution_count": 78,
     "metadata": {},
     "output_type": "execute_result"
    }
   ],
   "source": [
    "beta_hat = round(cov/x_var,1)\n",
    "beta_hat"
   ]
  },
  {
   "cell_type": "code",
   "execution_count": 80,
   "metadata": {},
   "outputs": [
    {
     "data": {
      "text/plain": [
       "1.39"
      ]
     },
     "execution_count": 80,
     "metadata": {},
     "output_type": "execute_result"
    }
   ],
   "source": [
    "#alpha_hat = y_bar - beta_hat * x_bar\n",
    "alpha_hat = round(y_bar - beta_hat * x_bar,2)\n",
    "alpha_hat"
   ]
  },
  {
   "cell_type": "code",
   "execution_count": 83,
   "metadata": {},
   "outputs": [
    {
     "data": {
      "text/plain": [
       "4.01"
      ]
     },
     "execution_count": 83,
     "metadata": {},
     "output_type": "execute_result"
    }
   ],
   "source": [
    "#de linearize: \n",
    "coeff = round(np.exp(alpha_hat),2)\n",
    "coeff"
   ]
  },
  {
   "cell_type": "markdown",
   "metadata": {},
   "source": [
    "### Problem 3 : Solve the Gradient Descent Problem"
   ]
  },
  {
   "cell_type": "code",
   "execution_count": 108,
   "metadata": {},
   "outputs": [
    {
     "name": "stdout",
     "output_type": "stream",
     "text": [
      "Step 0\n",
      "[0.8, 1.6, 3.2]\n",
      "\n",
      "\n",
      "Step 1\n",
      "[0.64, 1.28, 2.05]\n",
      "\n",
      "\n",
      "Step 2\n",
      "[0.51, 1.02, 1.3]\n",
      "\n",
      "\n",
      "Step 3\n",
      "[0.41, 0.82, 0.84]\n",
      "\n",
      "\n",
      "Step 4\n",
      "[0.33, 0.66, 0.54]\n",
      "\n",
      "\n",
      "Step 5\n",
      "[0.26, 0.53, 0.35]\n",
      "\n",
      "\n",
      "Step 6\n",
      "[0.21, 0.42, 0.22]\n",
      "\n",
      "\n",
      "Step 7\n",
      "[0.17, 0.34, 0.14]\n",
      "\n",
      "\n",
      "Step 8\n",
      "[0.14, 0.27, 0.09]\n",
      "\n",
      "\n",
      "Step 9\n",
      "[0.11, 0.22, 0.06]\n",
      "\n",
      "\n"
     ]
    }
   ],
   "source": [
    "step = 0.1\n",
    "pos = [1,2,\"f(x,y)\"] #f(x,y) = x**2 + y**2)\n",
    "for i in range(10):\n",
    "    pos[0] = round((pos[0] - (step * 2 * pos[0])),2)\n",
    "    pos[1] = round((pos[1] - (step * 2 * pos[1])),2)\n",
    "    pos[2] = round((pos[0]**2 + pos[1]**2),2)\n",
    "    \n",
    "    print(\"Step {}\".format(i))\n",
    "    print (pos)\n",
    "    print (\"\\n\")\n",
    "    \n",
    "    "
   ]
  },
  {
   "cell_type": "code",
   "execution_count": null,
   "metadata": {},
   "outputs": [],
   "source": []
  },
  {
   "cell_type": "code",
   "execution_count": null,
   "metadata": {},
   "outputs": [],
   "source": []
  }
 ],
 "metadata": {
  "kernelspec": {
   "display_name": "Python 3",
   "language": "python",
   "name": "python3"
  },
  "language_info": {
   "codemirror_mode": {
    "name": "ipython",
    "version": 3
   },
   "file_extension": ".py",
   "mimetype": "text/x-python",
   "name": "python",
   "nbconvert_exporter": "python",
   "pygments_lexer": "ipython3",
   "version": "3.7.6"
  }
 },
 "nbformat": 4,
 "nbformat_minor": 4
}
