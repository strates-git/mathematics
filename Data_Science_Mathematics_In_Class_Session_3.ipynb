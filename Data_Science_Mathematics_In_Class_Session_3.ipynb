{
 "cells": [
  {
   "cell_type": "code",
   "execution_count": 1,
   "metadata": {},
   "outputs": [],
   "source": [
    "import numpy as np"
   ]
  },
  {
   "cell_type": "markdown",
   "metadata": {},
   "source": [
    "### In Class: \n",
    "   ### Problem 1: Simple Linear Regression - Calculate the Sample Correlation Coefficient"
   ]
  },
  {
   "cell_type": "code",
   "execution_count": 2,
   "metadata": {},
   "outputs": [],
   "source": [
    "x = [1,3,5,7,9]\n",
    "y = [2,6,10,14,18]"
   ]
  },
  {
   "cell_type": "code",
   "execution_count": 3,
   "metadata": {},
   "outputs": [
    {
     "data": {
      "text/plain": [
       "5.0"
      ]
     },
     "execution_count": 3,
     "metadata": {},
     "output_type": "execute_result"
    }
   ],
   "source": [
    "#Calculate average of x\n",
    "x_bar = np.mean(x)\n",
    "x_bar"
   ]
  },
  {
   "cell_type": "code",
   "execution_count": 4,
   "metadata": {},
   "outputs": [
    {
     "data": {
      "text/plain": [
       "3.16"
      ]
     },
     "execution_count": 4,
     "metadata": {},
     "output_type": "execute_result"
    }
   ],
   "source": [
    "#Calculate standard deviation of x\n",
    "S_x = round(np.std(x, ddof = 1),2)\n",
    "S_x"
   ]
  },
  {
   "cell_type": "code",
   "execution_count": 5,
   "metadata": {},
   "outputs": [
    {
     "data": {
      "text/plain": [
       "10.0"
      ]
     },
     "execution_count": 5,
     "metadata": {},
     "output_type": "execute_result"
    }
   ],
   "source": [
    "#Calculate average of y\n",
    "y_bar = np.mean(y)\n",
    "y_bar"
   ]
  },
  {
   "cell_type": "code",
   "execution_count": 6,
   "metadata": {},
   "outputs": [
    {
     "data": {
      "text/plain": [
       "6.32"
      ]
     },
     "execution_count": 6,
     "metadata": {},
     "output_type": "execute_result"
    }
   ],
   "source": [
    "#Calculate standard devaition of y\n",
    "S_y = round(np.std(y, ddof = 1),2)\n",
    "S_y"
   ]
  },
  {
   "cell_type": "code",
   "execution_count": 7,
   "metadata": {},
   "outputs": [
    {
     "data": {
      "text/plain": [
       "10.0"
      ]
     },
     "execution_count": 7,
     "metadata": {},
     "output_type": "execute_result"
    }
   ],
   "source": [
    "#Calculate variance of x\n",
    "x_var = np.var(x, ddof=1)\n",
    "x_var"
   ]
  },
  {
   "cell_type": "code",
   "execution_count": 9,
   "metadata": {},
   "outputs": [
    {
     "data": {
      "text/plain": [
       "20.0"
      ]
     },
     "execution_count": 9,
     "metadata": {},
     "output_type": "execute_result"
    }
   ],
   "source": [
    "#Covariance the long way\n",
    "sigma_xy = 0\n",
    "for i in range(len(x)): \n",
    "    sigma_xy += ((x[i] - x_bar)*(y[i] - y_bar))\n",
    "\n",
    "cov = sigma_xy/(len(x)-1)\n",
    "    \n",
    "cov"
   ]
  },
  {
   "cell_type": "code",
   "execution_count": 10,
   "metadata": {},
   "outputs": [
    {
     "name": "stdout",
     "output_type": "stream",
     "text": [
      "Format list so numpy can process [[1, 3, 5, 7, 9], [2, 6, 10, 14, 18]]\n"
     ]
    },
    {
     "data": {
      "text/plain": [
       "array([[10., 20.],\n",
       "       [20., 40.]])"
      ]
     },
     "execution_count": 10,
     "metadata": {},
     "output_type": "execute_result"
    }
   ],
   "source": [
    "#covarainnce the short way\n",
    "xandy = [x,y]\n",
    "print(\"Format list so numpy can process\", xandy)\n",
    "cov2 = np.cov(xandy)\n",
    "cov2"
   ]
  },
  {
   "cell_type": "code",
   "execution_count": 11,
   "metadata": {},
   "outputs": [
    {
     "data": {
      "text/plain": [
       "1.0"
      ]
     },
     "execution_count": 11,
     "metadata": {},
     "output_type": "execute_result"
    }
   ],
   "source": [
    "#Calculate the correlation coeffeicient\n",
    "r_xy = (cov/x_var)*(S_x/S_y)\n",
    "r_xy"
   ]
  },
  {
   "cell_type": "code",
   "execution_count": 12,
   "metadata": {},
   "outputs": [
    {
     "data": {
      "text/plain": [
       "array([[1., 1.],\n",
       "       [1., 1.]])"
      ]
     },
     "execution_count": 12,
     "metadata": {},
     "output_type": "execute_result"
    }
   ],
   "source": [
    "#Or in one line using numpy \n",
    "cocoeff = np.corrcoef(x,y)\n",
    "cocoeff"
   ]
  },
  {
   "cell_type": "code",
   "execution_count": 15,
   "metadata": {},
   "outputs": [],
   "source": [
    "y = [7,12,42,19,66]"
   ]
  },
  {
   "cell_type": "code",
   "execution_count": 13,
   "metadata": {},
   "outputs": [
    {
     "data": {
      "text/plain": [
       "[-2, -6, -10, -14, -18]"
      ]
     },
     "execution_count": 13,
     "metadata": {},
     "output_type": "execute_result"
    }
   ],
   "source": [
    "#Change the y values by multiplying by -1\n",
    "for i in range(len(y)):\n",
    "    y[i] = y[i] * -1\n",
    "y"
   ]
  },
  {
   "cell_type": "code",
   "execution_count": 16,
   "metadata": {},
   "outputs": [
    {
     "data": {
      "text/plain": [
       "array([[1.        , 0.80506217],\n",
       "       [0.80506217, 1.        ]])"
      ]
     },
     "execution_count": 16,
     "metadata": {},
     "output_type": "execute_result"
    }
   ],
   "source": [
    "cocoeff2 = np.corrcoef(x,y)\n",
    "cocoeff2"
   ]
  },
  {
   "cell_type": "markdown",
   "metadata": {},
   "source": [
    "### Problem 2: Linearize an exponential function "
   ]
  },
  {
   "cell_type": "code",
   "execution_count": 17,
   "metadata": {},
   "outputs": [],
   "source": [
    "x = [0.1,0.3,0.5,0.7,0.9]\n",
    "y = [7.288475201562036,24.19858985765178,80.34214769275067,266.7453241637004,885.6256648167487]"
   ]
  },
  {
   "cell_type": "code",
   "execution_count": 18,
   "metadata": {},
   "outputs": [
    {
     "data": {
      "text/plain": [
       "[1.9862943611198907,\n",
       " 3.1862943611198906,\n",
       " 4.386294361119891,\n",
       " 5.58629436111989,\n",
       " 6.786294361119891]"
      ]
     },
     "execution_count": 18,
     "metadata": {},
     "output_type": "execute_result"
    }
   ],
   "source": [
    "# Linearize y\n",
    "ln_y = []\n",
    "for i in y: \n",
    "    ln_y.append(np.log(i))\n",
    "ln_y"
   ]
  },
  {
   "cell_type": "code",
   "execution_count": 19,
   "metadata": {},
   "outputs": [
    {
     "data": {
      "text/plain": [
       "0.5"
      ]
     },
     "execution_count": 19,
     "metadata": {},
     "output_type": "execute_result"
    }
   ],
   "source": [
    "x_bar = np.mean(x)\n",
    "x_bar"
   ]
  },
  {
   "cell_type": "code",
   "execution_count": 20,
   "metadata": {},
   "outputs": [
    {
     "data": {
      "text/plain": [
       "4.39"
      ]
     },
     "execution_count": 20,
     "metadata": {},
     "output_type": "execute_result"
    }
   ],
   "source": [
    "y_bar = round(np.mean(ln_y),2)\n",
    "y_bar"
   ]
  },
  {
   "cell_type": "code",
   "execution_count": 21,
   "metadata": {},
   "outputs": [
    {
     "data": {
      "text/plain": [
       "0.32"
      ]
     },
     "execution_count": 21,
     "metadata": {},
     "output_type": "execute_result"
    }
   ],
   "source": [
    "S_x = round(np.std(x, ddof=1),2)\n",
    "S_x"
   ]
  },
  {
   "cell_type": "code",
   "execution_count": 22,
   "metadata": {},
   "outputs": [
    {
     "data": {
      "text/plain": [
       "1.9"
      ]
     },
     "execution_count": 22,
     "metadata": {},
     "output_type": "execute_result"
    }
   ],
   "source": [
    "S_y = round(np.std(ln_y, ddof=1),2)\n",
    "S_y"
   ]
  },
  {
   "cell_type": "code",
   "execution_count": 23,
   "metadata": {},
   "outputs": [
    {
     "data": {
      "text/plain": [
       "0.1"
      ]
     },
     "execution_count": 23,
     "metadata": {},
     "output_type": "execute_result"
    }
   ],
   "source": [
    "x_var = np.var(x, ddof=1)\n",
    "x_var"
   ]
  },
  {
   "cell_type": "code",
   "execution_count": 24,
   "metadata": {},
   "outputs": [
    {
     "data": {
      "text/plain": [
       "0.6000000000000001"
      ]
     },
     "execution_count": 24,
     "metadata": {},
     "output_type": "execute_result"
    }
   ],
   "source": [
    "sigma_xy = 0\n",
    "for i in range(len(x)): \n",
    "    sigma_xy += ((x[i] - x_bar)*(ln_y[i] - y_bar))\n",
    "\n",
    "cov = sigma_xy/(len(x)-1)\n",
    "    \n",
    "cov"
   ]
  },
  {
   "cell_type": "code",
   "execution_count": 25,
   "metadata": {},
   "outputs": [
    {
     "name": "stdout",
     "output_type": "stream",
     "text": [
      "Format list so numpy can process [[0.1, 0.3, 0.5, 0.7, 0.9], [1.9862943611198907, 3.1862943611198906, 4.386294361119891, 5.58629436111989, 6.786294361119891]]\n"
     ]
    },
    {
     "data": {
      "text/plain": [
       "array([[0.1, 0.6],\n",
       "       [0.6, 3.6]])"
      ]
     },
     "execution_count": 25,
     "metadata": {},
     "output_type": "execute_result"
    }
   ],
   "source": [
    "#covarainnce the short way\n",
    "xandy = [x,ln_y]\n",
    "print(\"Format list so numpy can process\", xandy)\n",
    "cov2 = np.cov(xandy)\n",
    "cov2"
   ]
  },
  {
   "cell_type": "code",
   "execution_count": 26,
   "metadata": {},
   "outputs": [
    {
     "data": {
      "text/plain": [
       "6.0"
      ]
     },
     "execution_count": 26,
     "metadata": {},
     "output_type": "execute_result"
    }
   ],
   "source": [
    "beta_hat = round(cov/x_var,1)\n",
    "beta_hat"
   ]
  },
  {
   "cell_type": "code",
   "execution_count": 27,
   "metadata": {},
   "outputs": [
    {
     "data": {
      "text/plain": [
       "1.39"
      ]
     },
     "execution_count": 27,
     "metadata": {},
     "output_type": "execute_result"
    }
   ],
   "source": [
    "#alpha_hat = y_bar - beta_hat * x_bar\n",
    "alpha_hat = round(y_bar - beta_hat * x_bar,2)\n",
    "alpha_hat"
   ]
  },
  {
   "cell_type": "code",
   "execution_count": 28,
   "metadata": {},
   "outputs": [
    {
     "data": {
      "text/plain": [
       "4.01"
      ]
     },
     "execution_count": 28,
     "metadata": {},
     "output_type": "execute_result"
    }
   ],
   "source": [
    "#de linearize: \n",
    "coeff = round(np.exp(alpha_hat),2)\n",
    "coeff"
   ]
  },
  {
   "cell_type": "markdown",
   "metadata": {},
   "source": [
    "### Problem 3 : Solve the Gradient Descent Problem"
   ]
  },
  {
   "cell_type": "code",
<<<<<<< HEAD
   "execution_count": 1,
=======
   "execution_count": 33,
>>>>>>> 0c2ac94af1d0ef8de6d74197c4dc91ef482c9041
   "metadata": {},
   "outputs": [
    {
     "name": "stdout",
     "output_type": "stream",
     "text": [
      "Step 0\n",
      "[0.98, 1.96, 4.8]\n",
      "\n",
      "\n",
      "Step 1\n",
      "[0.96, 1.92, 4.61]\n",
      "\n",
      "\n",
      "Step 2\n",
      "[0.94, 1.88, 4.42]\n",
      "\n",
      "\n",
      "Step 3\n",
      "[0.92, 1.84, 4.23]\n",
      "\n",
      "\n",
      "Step 4\n",
      "[0.9, 1.8, 4.05]\n",
      "\n",
      "\n"
     ]
    }
   ],
   "source": [
    "step = 0.01\n",
    "pos = [1,2,\"f(x,y)\"] #f(x,y) = x**2 + y**2)\n",
    "for i in range(5):\n",
    "    pos[0] = round((pos[0] - (step * 2 * pos[0])),2)\n",
    "    pos[1] = round((pos[1] - (step * 2 * pos[1])),2)\n",
    "    pos[2] = round((pos[0]**2 + pos[1]**2),2)\n",
    "    \n",
    "    print(\"Step {}\".format(i))\n",
    "    print (pos)\n",
    "    print (\"\\n\")\n",
    "    \n",
    "    "
   ]
  },
  {
   "cell_type": "code",
   "execution_count": null,
   "metadata": {},
   "outputs": [],
   "source": []
  },
  {
   "cell_type": "code",
   "execution_count": null,
   "metadata": {},
   "outputs": [],
   "source": []
  }
 ],
 "metadata": {
  "kernelspec": {
   "display_name": "Python 3",
   "language": "python",
   "name": "python3"
  },
  "language_info": {
   "codemirror_mode": {
    "name": "ipython",
    "version": 3
   },
   "file_extension": ".py",
   "mimetype": "text/x-python",
   "name": "python",
   "nbconvert_exporter": "python",
   "pygments_lexer": "ipython3",
   "version": "3.7.7"
  }
 },
 "nbformat": 4,
 "nbformat_minor": 4
}
