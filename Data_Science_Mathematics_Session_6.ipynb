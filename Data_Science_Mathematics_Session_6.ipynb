{
 "cells": [
  {
   "cell_type": "markdown",
   "metadata": {},
   "source": [
    "# Data Science Mathematics\n",
    "# Principal Component Analysis\n",
    "# In-Class Activity"
   ]
  },
  {
   "cell_type": "markdown",
   "metadata": {},
   "source": [
    "Refer to your in-class handout for instructions.  You are going to do most of the coding yourself here.\n",
    "\n",
    "Read about this library here:\n",
    "https://scikit-learn.org/stable/modules/generated/sklearn.decomposition.PCA.html\n",
    "\n",
    "First, let's import our relevant libraries."
   ]
  },
  {
   "cell_type": "markdown",
   "metadata": {},
   "source": [
    "#1 cov(x, x) = sigma[(xi - x_bar)(xi - x_bar)]/(n-1)\n",
    "    = sigma[(xi - x_bar)^2)]/(n-1)\n",
    "    = var(x)\n",
    "    \n",
    "#2 Dimensional reduction can improve the efficiency and simplicity of calculation on large data sets. Simplicity can improve model accuracy by ensuring models aren't trained on spurious data or noise. Dimensional reduction can be detrimental if it generalizes/discards useful data, or if the data is not truly Gaussian. Dimensionality reduction can assist with the \"Curse of Dimensionality\" by reducing the size of the solution space, which reduces the number of datapoints needed to make meaningful predictions, and ultimately increases the models accuracy. "
   ]
  },
  {
   "cell_type": "markdown",
   "metadata": {},
   "source": [
    "#3 \n",
    "a = [[3, 0 ,0],\n",
    "    [-4, 6, 2],\n",
    "    [16, -15, -5]]\n",
    "\n",
    "lambda_i = [[L, 0, 0],\n",
    "            [0, L, 0],\n",
    "            [0, 0, L]]\n",
    "\n",
    "a-lambda_i = [[3-L, 0, 0],\n",
    "              [-4, 6-L, 2],\n",
    "              [16, -15, -5-L]]\n",
    "              \n",
    "(a-lamda_i) = 0 => (3-L)[[6-L, 2],\n",
    "                         [15, -5-L]]\n",
    "                       \n",
    "=> (3-L)[(6-L)(-5-L)-(2*-15)]\n",
    "=> (3-L)[-30+5L-6L+L^2+30]\n",
    "=> (3-L)(L^2-L)\n",
    "=> (3-L)(L)(L-1)\n",
    "=> L={0, 1, 3}"
   ]
  },
  {
   "cell_type": "markdown",
   "metadata": {},
   "source": [
    "for L=0\n",
    "a - Li = [[3, 0, 0],\n",
    "          [-4, 6, 2],\n",
    "          [16, -15, -5]]\n",
    "\n",
    "3x = 0\n",
    "-4x + 6y + 2z = 0\n",
    "16x - 15y -5z = 0\n",
    "\n",
    "=> x=0 => y = (-2z/6) => (30z/6) - 5z = 0 => 5z = 5z \n",
    "let z=1 then E(L=0) = [0, -.333, 1]"
   ]
  },
  {
   "cell_type": "markdown",
   "metadata": {},
   "source": [
    "for L=1\n",
    "a - Li = [[2, 0, 0],\n",
    "          [-4, 5, 2],\n",
    "          [16, -15, -6]]\n",
    "          \n",
    "2x = 0\n",
    "-4x + 5y + 2z = 0\n",
    "16x - 15y - 6z = 0\n",
    "=> x=0 => z = (5y/2) => -15y + 6(5y/2) = 0 => 15y = 15y\n",
    "let y=1 then E(L=1) = [0, 1, -2.5]"
   ]
  },
  {
   "cell_type": "markdown",
   "metadata": {},
   "source": [
    "for L=3\n",
    "a - Li = [[0, 0, 0],\n",
    "          [-4, 3, 2],\n",
    "          [16, -15, -8]]\n",
    "\n",
    "-4x + 3y + 2z = 0\n",
    "16x + 15y - 8z = 0\n",
    "let x=1 then \n",
    "=> 3y + 2z = 4\n",
    "   -15y - 8z = -16\n",
    "=> y = (4 - 2z)/3 => -15[(4 - 2z)/3] - 8z = -16 => -5(4-2z) - 8z = -16\n",
    "=> -20 + 10z - 8z = -16 => 2z = 4 => z = 2\n",
    "=> y = (4 2(2))/3 => y=0"
   ]
  },
  {
   "cell_type": "markdown",
   "metadata": {},
   "source": [
    "#4 det(a) = 3[[6, 2]\n",
    "              [-15, -5]]\n",
    "= 3 ((6*-5) - (2*-15)) = 3 * (-30 + 30) = 3 * 0 = 0\n",
    "\n",
    "det(a) = 0"
   ]
  },
  {
   "cell_type": "code",
   "execution_count": 2,
   "metadata": {},
   "outputs": [
    {
     "name": "stdout",
     "output_type": "stream",
     "text": [
      "[[ 3.   0.   0. ]\n",
      " [ 0.   1.   0. ]\n",
      " [ 6.  -2.5 -0. ]]\n"
     ]
    }
   ],
   "source": [
    "import numpy as np\n",
    "import pandas as pd\n",
    "from sklearn.decomposition import PCA\n",
    "from sklearn.preprocessing import normalize \n",
    "import matplotlib\n",
    "\n",
    "a = np.array([[3, 0 ,0],\n",
    "    [-4, 6, 2],\n",
    "    [16, -15, -5]])\n",
    "\n",
    "eigenvectors = np.array([[1,0,0],\n",
    "                        [0,1,-.333],\n",
    "                        [2,-2.5,1]])\n",
    "\n",
    "print(np.round(np.matmul(a, eigenvectors),2))\n",
    "\n"
   ]
  },
  {
   "cell_type": "markdown",
   "metadata": {},
   "source": [
    "First, we need to instantiate our data set."
   ]
  },
  {
   "cell_type": "code",
   "execution_count": 3,
   "metadata": {},
   "outputs": [],
   "source": [
    "data = np.array([[5.1,3.5,1.4,0.2],\n",
    "[4.9,3.0,1.4,0.2],\n",
    "[4.7,3.2,1.3,0.2],\n",
    "[4.6,3.1,1.5,0.2],\n",
    "[5.0,3.6,1.4,0.2],\n",
    "[5.4,3.9,1.7,0.4],\n",
    "[4.6,3.4,1.4,0.3],\n",
    "[5.0,3.4,1.5,0.2],\n",
    "[4.4,2.9,1.4,0.2],\n",
    "[4.9,3.1,1.5,0.1],\n",
    "[5.4,3.7,1.5,0.2],\n",
    "[4.8,3.4,1.6,0.2],\n",
    "[4.8,3.0,1.4,0.1],\n",
    "[4.3,3.0,1.1,0.1],\n",
    "[5.8,4.0,1.2,0.2],\n",
    "[5.7,4.4,1.5,0.4],\n",
    "[5.4,3.9,1.3,0.4],\n",
    "[5.1,3.5,1.4,0.3],\n",
    "[5.7,3.8,1.7,0.3],\n",
    "[5.1,3.8,1.5,0.3]])"
   ]
  },
  {
   "cell_type": "markdown",
   "metadata": {},
   "source": [
    "Now, in the cell below, calculate your covariance matrix for the above data set:\n",
    "> c = np.cov(x)"
   ]
  },
  {
   "cell_type": "code",
   "execution_count": 4,
   "metadata": {},
   "outputs": [
    {
     "name": "stdout",
     "output_type": "stream",
     "text": [
      "[[5.1 3.5 1.4 0.2]\n",
      " [4.9 3.  1.4 0.2]\n",
      " [4.7 3.2 1.3 0.2]\n",
      " [4.6 3.1 1.5 0.2]\n",
      " [5.  3.6 1.4 0.2]\n",
      " [5.4 3.9 1.7 0.4]\n",
      " [4.6 3.4 1.4 0.3]\n",
      " [5.  3.4 1.5 0.2]\n",
      " [4.4 2.9 1.4 0.2]\n",
      " [4.9 3.1 1.5 0.1]\n",
      " [5.4 3.7 1.5 0.2]\n",
      " [4.8 3.4 1.6 0.2]\n",
      " [4.8 3.  1.4 0.1]\n",
      " [4.3 3.  1.1 0.1]\n",
      " [5.8 4.  1.2 0.2]\n",
      " [5.7 4.4 1.5 0.4]\n",
      " [5.4 3.9 1.3 0.4]\n",
      " [5.1 3.5 1.4 0.3]\n",
      " [5.7 3.8 1.7 0.3]\n",
      " [5.1 3.8 1.5 0.3]]\n"
     ]
    }
   ],
   "source": [
    "#data = data/np.linalg.norm(data)\n",
    "print(data)\n",
    "c = np.cov(data)"
   ]
  },
  {
   "cell_type": "markdown",
   "metadata": {},
   "source": [
    "Print the covariance matrix."
   ]
  },
  {
   "cell_type": "code",
   "execution_count": 36,
   "metadata": {},
   "outputs": [
    {
     "name": "stdout",
     "output_type": "stream",
     "text": [
      "(20, 20)\n"
     ]
    }
   ],
   "source": [
    "print(c) #should c be 20x20 or 4x4? why?"
   ]
  },
  {
   "cell_type": "markdown",
   "metadata": {},
   "source": [
    "Now, in the cell below, calculate the eigenvectors and eigenvalues of the covariance matrix."
   ]
  },
  {
   "cell_type": "code",
   "execution_count": 6,
   "metadata": {},
   "outputs": [
    {
     "name": "stdout",
     "output_type": "stream",
     "text": [
      "eigenvalues= 20\n",
      "eigenvectors= [[-2.27624404e-01+0.j         -4.65387044e-03+0.j\n",
      "   3.84689594e-02+0.j         -2.19203524e-01+0.j\n",
      "  -6.40905366e-02+0.0201665j  -6.40905366e-02-0.0201665j\n",
      "  -1.45857484e-01+0.j         -3.62629304e-02+0.17193483j\n",
      "  -3.62629304e-02-0.17193483j -1.11989085e-01-0.00978793j\n",
      "  -1.11989085e-01+0.00978793j  6.10563775e-02+0.j\n",
      "   2.72739539e-02+0.j          1.50524246e-01+0.j\n",
      "   4.58572651e-02+0.j          6.83966359e-02+0.j\n",
      "  -8.48484342e-02+0.j          1.12504320e-01+0.j\n",
      "  -7.63000004e-02+0.00884588j -7.63000004e-02-0.00884588j]\n",
      " [-2.11837455e-01+0.j         -3.38434622e-01+0.j\n",
      "   3.56360854e-01+0.j         -2.91538396e-01+0.j\n",
      "  -2.11773358e-02-0.02196819j -2.11773358e-02+0.02196819j\n",
      "  -9.51065375e-03+0.j          9.82272409e-02-0.1109481j\n",
      "   9.82272409e-02+0.1109481j   5.27578244e-03+0.00659216j\n",
      "   5.27578244e-03-0.00659216j -6.28684455e-02+0.j\n",
      "   7.41116407e-02+0.j          4.89525421e-02+0.j\n",
      "   2.67749191e-02+0.j          1.89102997e-02+0.j\n",
      "  -9.95737794e-03+0.j          1.52011909e-03+0.j\n",
      "  -6.60827564e-02-0.00955086j -6.60827564e-02+0.00955086j]\n",
      " [-2.08610694e-01+0.j         -2.79743935e-02+0.j\n",
      "   7.01593228e-02+0.j         -1.40046651e-01+0.j\n",
      "  -5.41194566e-02+0.11988313j -5.41194566e-02-0.11988313j\n",
      "   3.84611508e-01+0.j         -2.36581626e-01-0.23087767j\n",
      "  -2.36581626e-01+0.23087767j  5.88507716e-02+0.02419686j\n",
      "   5.88507716e-02-0.02419686j -3.48378347e-02+0.j\n",
      "   3.24152795e-02+0.j          4.22935909e-01+0.j\n",
      "  -4.51033806e-01+0.j          2.93505158e-01+0.j\n",
      "  -9.87197316e-02+0.j         -2.61571135e-01+0.j\n",
      "  -2.96335373e-01-0.05896863j -2.96335373e-01+0.05896863j]\n",
      " [-1.99364240e-01+0.j         -2.11246164e-01+0.j\n",
      "  -1.90769451e-01+0.j          3.28565681e-01+0.j\n",
      "  -2.73348663e-01-0.12578184j -2.73348663e-01+0.12578184j\n",
      "  -6.69490471e-02+0.j          1.53664480e-01+0.00342685j\n",
      "   1.53664480e-01-0.00342685j -2.21570872e-03-0.05750101j\n",
      "  -2.21570872e-03+0.05750101j  3.01114535e-01+0.j\n",
      "  -5.00817335e-02+0.j          1.28163554e-01+0.j\n",
      "  -1.06729391e-01+0.j          1.14340561e-01+0.j\n",
      "  -1.34677330e-01+0.j         -5.50677039e-02+0.j\n",
      "   1.86989816e-01-0.01774499j  1.86989816e-01+0.01774499j]\n",
      " [-2.25097761e-01+0.j          1.15704269e-01+0.j\n",
      "  -1.70211900e-01+0.j         -1.65884951e-01+0.j\n",
      "   8.32159143e-02-0.01391562j  8.32159143e-02+0.01391562j\n",
      "  -4.07498680e-01+0.j         -1.52650332e-01-0.06156341j\n",
      "  -1.52650332e-01+0.06156341j -1.91951875e-01-0.06062302j\n",
      "  -1.91951875e-01+0.06062302j -1.87227495e-01+0.j\n",
      "  -9.91617039e-02+0.j          1.77045277e-01+0.j\n",
      "  -2.12981351e-01+0.j         -1.55036619e-01+0.j\n",
      "   1.89393810e-04+0.j          2.45920412e-01+0.j\n",
      "  -1.33843273e-01-0.03002171j -1.33843273e-01+0.03002171j]\n",
      " [-2.32924664e-01+0.j          5.14570528e-02+0.j\n",
      "  -1.99119060e-01+0.j         -2.87231265e-01+0.j\n",
      "  -2.50362086e-01+0.04841846j -2.50362086e-01-0.04841846j\n",
      "   4.51722927e-02+0.j         -9.33201896e-02-0.08180148j\n",
      "  -9.33201896e-02+0.08180148j  1.94172775e-01+0.04366968j\n",
      "   1.94172775e-01-0.04366968j  1.04000944e-01+0.j\n",
      "  -4.78456113e-01+0.j         -1.37310267e-01+0.j\n",
      "   2.52728540e-03+0.j          6.11850936e-02+0.j\n",
      "   1.90278774e-02+0.j          1.66007319e-01+0.j\n",
      "  -1.97070275e-01+0.03455485j -1.97070275e-01-0.03455485j]\n",
      " [-2.02024028e-01+0.j          1.30670880e-01+0.j\n",
      "  -2.42166166e-01+0.j          1.99911735e-01+0.j\n",
      "   1.31030798e-01-0.08654039j  1.31030798e-01+0.08654039j\n",
      "   7.62115810e-02+0.j          1.45409709e-01+0.20812277j\n",
      "   1.45409709e-01-0.20812277j -3.21613040e-01+0.04987353j\n",
      "  -3.21613040e-01-0.04987353j -9.79219107e-02+0.j\n",
      "   1.74202645e-03+0.j          3.00137699e-01+0.j\n",
      "  -2.49803664e-01+0.j         -6.73455001e-02+0.j\n",
      "  -6.21284310e-02+0.j         -2.89722601e-02+0.j\n",
      "   2.79688097e-01+0.11732888j  2.79688097e-01-0.11732888j]\n",
      " [-2.20204475e-01+0.j         -1.18181690e-01+0.j\n",
      "  -9.12996265e-02+0.j          6.74208925e-02+0.j\n",
      "   4.36369013e-01+0.13989883j  4.36369013e-01-0.13989883j\n",
      "  -2.46848009e-01+0.j         -1.31329779e-01-0.33923082j\n",
      "  -1.31329779e-01+0.33923082j  4.90169963e-02-0.05041516j\n",
      "   4.90169963e-02+0.05041516j  2.19801425e-01+0.j\n",
      "   5.41653963e-01+0.j         -3.49712220e-01+0.j\n",
      "  -1.94229444e-01+0.j          3.05079225e-01+0.j\n",
      "   3.08843805e-01+0.j          4.41461868e-02+0.j\n",
      "  -3.07048207e-01+0.01110398j -3.07048207e-01-0.01110398j]\n",
      " [-1.90003957e-01+0.j         -2.29069952e-01+0.j\n",
      "  -5.68260599e-02+0.j          1.60203865e-01+0.j\n",
      "   1.19938805e-01-0.0471927j   1.19938805e-01+0.0471927j\n",
      "  -7.57596554e-03+0.j          7.33531714e-02+0.26522374j\n",
      "   7.33531714e-02-0.26522374j  3.87541701e-01+0.06201733j\n",
      "   3.87541701e-01-0.06201733j -5.09488642e-02+0.j\n",
      "   9.21973176e-02+0.j          2.64719084e-01+0.j\n",
      "  -8.37832372e-02+0.j         -1.33175852e-01+0.j\n",
      "   1.29952874e-01+0.j          5.04828984e-01+0.j\n",
      "   9.99838103e-02+0.00654205j  9.99838103e-02-0.00654205j]\n",
      " [-2.15311189e-01+0.j         -3.52067649e-01+0.j\n",
      "  -1.23873530e-02+0.j         -2.20144677e-01+0.j\n",
      "   2.07652310e-01+0.03771575j  2.07652310e-01-0.03771575j\n",
      "   1.25693448e-01+0.j         -6.43783020e-02-0.04825412j\n",
      "  -6.43783020e-02+0.04825412j -1.52291435e-01+0.04718073j\n",
      "  -1.52291435e-01-0.04718073j  3.50909351e-01+0.j\n",
      "  -2.85852890e-01+0.j         -3.94159285e-01+0.j\n",
      "  -1.31799890e-01+0.j         -3.65123187e-01+0.j\n",
      "  -3.70019869e-01+0.j         -1.76021862e-01+0.j\n",
      "   1.45879613e-01-0.00395775j  1.45879613e-01+0.00395775j]\n",
      " [-2.41044711e-01+0.j         -2.51172168e-02+0.j\n",
      "   8.17019756e-03+0.j          1.55995256e-01+0.j\n",
      "  -2.77815186e-01-0.02326002j -2.77815186e-01+0.02326002j\n",
      "  -2.65206366e-01+0.j         -4.77459234e-02+0.05805417j\n",
      "  -4.77459234e-02-0.05805417j -2.16753072e-01+0.11267353j\n",
      "  -2.16753072e-01-0.11267353j  1.62207660e-01+0.j\n",
      "   2.37990949e-01+0.j          1.18613922e-01+0.j\n",
      "  -1.24350271e-02+0.j         -1.31849580e-01+0.j\n",
      "   4.90371958e-01+0.j         -3.88806061e-01+0.j\n",
      "   2.90163213e-01+0.01284708j  2.90163213e-01-0.01284708j]\n",
      " [-2.10257903e-01+0.j         -1.11351371e-01+0.j\n",
      "  -4.29749072e-01+0.j         -2.99813339e-01+0.j\n",
      "  -2.25345087e-01+0.04083485j -2.25345087e-01-0.04083485j\n",
      "   2.98460416e-01+0.j         -1.38814542e-01-0.20302508j\n",
      "  -1.38814542e-01+0.20302508j  3.32398132e-01-0.13425528j\n",
      "   3.32398132e-01+0.13425528j -3.62235597e-01+0.j\n",
      "   2.59296554e-01+0.j         -9.57436094e-02+0.j\n",
      "   6.17145717e-02+0.j         -2.20958736e-01+0.j\n",
      "   2.03370497e-01+0.j         -1.90325035e-01+0.j\n",
      "  -1.04838390e-01+0.00537073j -1.04838390e-01-0.00537073j]\n",
      " [-2.11544311e-01+0.j         -3.26107568e-01+0.j\n",
      "   1.20164436e-01+0.j          2.04540886e-01+0.j\n",
      "   1.57712719e-01+0.06143684j  1.57712719e-01-0.06143684j\n",
      "  -1.22206754e-01+0.j          1.23564107e-01+0.2162204j\n",
      "   1.23564107e-01-0.2162204j   2.21848396e-01-0.0344262j\n",
      "   2.21848396e-01+0.0344262j  -4.49701414e-01+0.j\n",
      "  -1.83556017e-01+0.j          2.10625517e-01+0.j\n",
      "   5.84450218e-01+0.j          8.56761496e-02+0.j\n",
      "  -4.94416783e-02+0.j         -9.19647826e-02+0.j\n",
      "   2.69076999e-01+0.06559894j  2.69076999e-01-0.06559894j]\n",
      " [-1.96723768e-01+0.j          7.45599571e-02+0.j\n",
      "  -4.57814592e-03+0.j          2.13269443e-01+0.j\n",
      "  -3.21066081e-02-0.05861342j -3.21066081e-02+0.05861342j\n",
      "   1.82713154e-01+0.j         -7.52537921e-02+0.10550404j\n",
      "  -7.52537921e-02-0.10550404j -3.12022114e-01+0.0655837j\n",
      "  -3.12022114e-01-0.0655837j   2.13323044e-01+0.j\n",
      "   2.21511349e-01+0.j         -4.91068622e-02+0.j\n",
      "   3.81984852e-01+0.j         -4.07629343e-01+0.j\n",
      "   7.26687954e-02+0.j          3.64786040e-01+0.j\n",
      "  -4.09374412e-01+0.j         -4.09374412e-01-0.j        ]\n",
      " [-2.67364521e-01+0.j          2.77179108e-01+0.j\n",
      "   5.01120584e-01+0.j          1.93483236e-01+0.j\n",
      "  -1.81235973e-01-0.06156662j -1.81235973e-01+0.06156662j\n",
      "  -3.09624387e-01+0.j          6.65841956e-02-0.1076596j\n",
      "   6.65841956e-02+0.1076596j   2.54592265e-01-0.0379809j\n",
      "   2.54592265e-01+0.0379809j  -4.32577307e-02+0.j\n",
      "   1.27733981e-01+0.j         -1.00318151e-01+0.j\n",
      "  -1.19623819e-01+0.j         -1.38064463e-01+0.j\n",
      "  -2.72506420e-01+0.j         -1.77349324e-01+0.j\n",
      "  -2.25947179e-01-0.00645044j -2.25947179e-01+0.00645044j]\n",
      " [-2.56424686e-01+0.j          4.86438570e-01+0.j\n",
      "  -1.51045951e-01+0.j          2.64036169e-02+0.j\n",
      "   4.59751922e-01+0.j          4.59751922e-01-0.j\n",
      "   5.78910203e-02+0.j          1.02065757e-01+0.13046871j\n",
      "   1.02065757e-01-0.13046871j  1.70911946e-01-0.00826922j\n",
      "   1.70911946e-01+0.00826922j  1.15036218e-01+0.j\n",
      "  -2.31712288e-01+0.j          1.07598853e-01+0.j\n",
      "   1.85813478e-01+0.j         -6.51925987e-02+0.j\n",
      "  -1.11357364e-01+0.j         -2.97554791e-01+0.j\n",
      "   1.29478659e-01-0.04601984j  1.29478659e-01+0.04601984j]\n",
      " [-2.40230764e-01+0.j          3.30432855e-01+0.j\n",
      "   3.25521690e-01+0.j         -3.73107241e-01+0.j\n",
      "  -5.37220066e-02+0.03520443j -5.37220066e-02-0.03520443j\n",
      "   4.34745610e-01+0.j         -2.42750159e-01-0.03248389j\n",
      "  -2.42750159e-01+0.03248389j -5.26807183e-03-0.04135337j\n",
      "  -5.26807183e-03+0.04135337j  9.27579745e-02+0.j\n",
      "   4.54420833e-02+0.j         -1.71016592e-01+0.j\n",
      "   3.07209094e-03+0.j          1.15397073e-01+0.j\n",
      "   4.18044344e-01+0.j          2.60090941e-01+0.j\n",
      "   3.75837815e-01+0.0906957j   3.75837815e-01-0.0906957j ]\n",
      " [-2.23857526e-01+0.j          2.13062106e-02+0.j\n",
      "   1.71020749e-01+0.j          3.44875249e-01+0.j\n",
      "  -1.11859722e-02+0.10209039j -1.11859722e-02-0.10209039j\n",
      "   3.27361467e-02+0.j          3.68154000e-01+0.j\n",
      "   3.68154000e-01-0.j          3.02280090e-02-0.04187737j\n",
      "   3.02280090e-02+0.04187737j -4.39674921e-01+0.j\n",
      "  -1.72782846e-01+0.j          7.21452734e-02+0.j\n",
      "  -7.18779527e-03+0.j         -2.17725399e-01+0.j\n",
      "  -1.47720711e-01+0.j          1.16062313e-01+0.j\n",
      "   8.69344202e-02-0.07843901j  8.69344202e-02+0.07843901j]\n",
      " [-2.47338233e-01+0.j         -1.71435437e-01+0.j\n",
      "   8.42992679e-02+0.j          4.99480021e-02+0.j\n",
      "   8.74682346e-02-0.16839547j  8.74682346e-02+0.16839547j\n",
      "   2.10434590e-01+0.j         -1.40530216e-01+0.14436581j\n",
      "  -1.40530216e-01-0.14436581j -4.04416201e-01+0.j\n",
      "  -4.04416201e-01-0.j          1.84963382e-01+0.j\n",
      "  -2.10173428e-01+0.j         -2.49383236e-01+0.j\n",
      "  -1.08986323e-03+0.j          3.93903294e-01+0.j\n",
      "   6.56035058e-02+0.j         -6.39424838e-02+0.j\n",
      "  -9.14477004e-02-0.04008029j -9.14477004e-02+0.04008029j]\n",
      " [-2.26631142e-01+0.j          1.97775273e-01+0.j\n",
      "  -2.75248131e-01+0.j          1.02023526e-01+0.j\n",
      "  -2.38170854e-01+0.00822375j -2.38170854e-01-0.00822375j\n",
      "  -1.84998621e-01+0.j          2.54934430e-01-0.05721809j\n",
      "   2.54934430e-01+0.05721809j  1.45391106e-02+0.07430341j\n",
      "   1.45391106e-02-0.07430341j -1.20137641e-01+0.j\n",
      "   1.22940220e-01+0.j         -3.21452513e-01+0.j\n",
      "   2.68543714e-01+0.j          3.74705379e-01+0.j\n",
      "  -3.66487484e-01+0.j          7.14899854e-02+0.j\n",
      "   3.71999150e-02-0.04798267j  3.71999150e-02+0.04798267j]]\n"
     ]
    }
   ],
   "source": [
    "w, v = np.linalg.eig(c)\n",
    "print (\"eigenvalues=\", len(w))\n",
    "print (\"eigenvectors=\", v)"
   ]
  },
  {
   "cell_type": "markdown",
   "metadata": {},
   "source": [
    "Now calculate the principal components (reduce to 2 dimensions).  First, you need to instantiate your PCA object."
   ]
  },
  {
   "cell_type": "code",
   "execution_count": 7,
   "metadata": {},
   "outputs": [],
   "source": [
    "pca = PCA(n_components=2)"
   ]
  },
  {
   "cell_type": "markdown",
   "metadata": {},
   "source": [
    "Now, in the cell below, train your model on your dataset:\n",
    "> pca.fit(X)"
   ]
  },
  {
   "cell_type": "code",
   "execution_count": 8,
   "metadata": {},
   "outputs": [],
   "source": [
    "dataReduced = pca.fit_transform(data) #is dataReduced directly related to original data (i.e dataReduced['x'] = feature 3? or a linear combination of all 4 features, projected into a two dimensional plane?"
   ]
  },
  {
   "cell_type": "markdown",
   "metadata": {},
   "source": [
    "The following commands can be used to get your explained variance ratios (percentage of variance explained by each of the selected components) and your dimensionally-reduced components.\n",
    "\n",
    "Print these values in the cells below."
   ]
  },
  {
   "cell_type": "code",
   "execution_count": 9,
   "metadata": {},
   "outputs": [
    {
     "name": "stdout",
     "output_type": "stream",
     "text": [
      "[0.87954353 0.06300167]\n"
     ]
    }
   ],
   "source": [
    "print(pca.explained_variance_ratio_)"
   ]
  },
  {
   "cell_type": "code",
   "execution_count": 10,
   "metadata": {},
   "outputs": [
    {
     "name": "stdout",
     "output_type": "stream",
     "text": [
      "[[ 0.71816179  0.68211748  0.08126075  0.1111579 ]\n",
      " [ 0.61745716 -0.65996887  0.37215116 -0.21140307]]\n"
     ]
    }
   ],
   "source": [
    "print(pca.components_)"
   ]
  },
  {
   "cell_type": "markdown",
   "metadata": {},
   "source": [
    "Bonus: Figure out how to plot your principal components as a scatter plot:\n",
    "\n",
    "https://matplotlib.org/3.1.1/api/_as_gen/matplotlib.pyplot.scatter.html"
   ]
  },
  {
   "cell_type": "code",
   "execution_count": 28,
   "metadata": {},
   "outputs": [
    {
     "name": "stdout",
     "output_type": "stream",
     "text": [
      "          x         y\n",
      "0  0.053588  0.021309\n",
      "1 -0.431103  0.227802\n",
      "2 -0.446438 -0.064898\n",
      "3 -0.570214  0.013783\n",
      "4  0.049984 -0.106433\n",
      "6.186032932955439\n"
     ]
    },
    {
     "data": {
      "image/png": "[encoded data removed]",
      "text/plain": [
       "<Figure size 648x432 with 2 Axes>"
      ]
     },
     "metadata": {
      "needs_background": "light"
     },
     "output_type": "display_data"
    }
   ],
   "source": [
    "dataReduced = pd.DataFrame(data=dataReduced, columns=['x', 'y'])\n",
    "F1, F2 = enumerate(pca.components_)\n",
    "print(dataReduced.head())\n",
    "\n",
    "%matplotlib inline\n",
    "import matplotlib.pyplot as plt\n",
    "import seaborn as sns\n",
    "i=1\n",
    "\n",
    "fig, (ax1, ax2) = plt.subplots(1,2, figsize=(9,6))\n",
    "ax1.scatter(F1[1], F2[1])   #I don't think this plot is meaningful, but leaving in place to discuss intepretation. \n",
    "ax1.set_title('Principle Components')\n",
    "for xy in zip(F1[1], F2[1]):\n",
    "    ax1.annotate('(%s)' % i, xy=xy, textcoords='data')\n",
    "    i+=1\n",
    "sns.scatterplot(x='x', y='y', data=dataReduced, ax=ax2)\n",
    "ax2.set_title('Reduced Dataset')\n",
    "ax2.set_ylim([-1,1])\n",
    "\n",
    "plt.show()\n",
    "\n"
   ]
  },
  {
   "cell_type": "markdown",
   "metadata": {},
   "source": [
    "***Now save your output.  Go to File -> Print Preview and save your final output as a PDF.  Turn in to your Instructor, along with any additional sheets."
   ]
  },
  {
   "cell_type": "markdown",
   "metadata": {},
   "source": [
    "#5 D) The reduced dataset suggest a somewhat linear relationship in the first 2 principle components. This could inform the number of clusters that would be optimal for a supervised learning algorithm. Using the 2 principle components could also accerelate the training of a supervised learning algorithm. "
   ]
  },
  {
   "cell_type": "markdown",
   "metadata": {},
   "source": []
  }
 ],
 "metadata": {
  "kernelspec": {
   "display_name": "Python 3",
   "language": "python",
   "name": "python3"
  },
  "language_info": {
   "codemirror_mode": {
    "name": "ipython",
    "version": 3
   },
   "file_extension": ".py",
   "mimetype": "text/x-python",
   "name": "python",
   "nbconvert_exporter": "python",
   "pygments_lexer": "ipython3",
   "version": "3.7.7"
  }
 },
 "nbformat": 4,
 "nbformat_minor": 2
}
