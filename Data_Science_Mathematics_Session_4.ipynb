{
 "cells": [
  {
   "cell_type": "markdown",
   "metadata": {},
   "source": [
    "# Data Science Mathematics\n",
    "# K-Means Clustering\n",
    "# In-Class Activity"
   ]
  },
  {
   "cell_type": "markdown",
   "metadata": {},
   "source": [
    "Let's analyze our data set using the K-means module of Python.  First, import the relevant libraries."
   ]
  },
  {
   "cell_type": "code",
   "execution_count": 202,
   "metadata": {},
   "outputs": [],
   "source": [
    "from sklearn.cluster import KMeans\n",
    "from sklearn.metrics import confusion_matrix\n",
    "import numpy as np"
   ]
  },
  {
   "cell_type": "markdown",
   "metadata": {},
   "source": [
    "Now let's import our dataset as a Numpy array."
   ]
  },
  {
   "cell_type": "code",
   "execution_count": 203,
   "metadata": {},
   "outputs": [],
   "source": [
    "data=[[8,22,62],\n",
    "[15,51,85],\n",
    "[9,44,121],\n",
    "[8,51,136],\n",
    "[8,20,93],\n",
    "[15,64,124],\n",
    "[14,56,101],\n",
    "[5,10,80],\n",
    "[5,18,73],\n",
    "[9,26,79]]\n",
    "labels=[0,1,1,1,0,1,1,0,0,0] #(0= Military, 1=Non-Military)"
   ]
  },
  {
   "cell_type": "code",
   "execution_count": 204,
   "metadata": {},
   "outputs": [
    {
     "name": "stdout",
     "output_type": "stream",
     "text": [
      "Centroids: [[10, 20, 80], [10, 50, 110]]\n",
      "Centroids: [[7.0, 19.2, 77.4], [12.2, 53.2, 113.4]]\n",
      "Centroids: [[7.0, 19.2, 77.4], [12.2, 53.2, 113.4]]\n",
      "Centroids: [[7.0, 19.2, 77.4], [12.2, 53.2, 113.4]]\n",
      "Centroids: [[7.0, 19.2, 77.4], [12.2, 53.2, 113.4]]\n",
      "Military Cluster: [[8, 22, 62], [8, 20, 93], [5, 10, 80], [5, 18, 73], [9, 26, 79]]\n",
      "Non-Military Cluster: [[15, 51, 85], [9, 44, 121], [8, 51, 136], [15, 64, 124], [14, 56, 101]]\n",
      "Confusion Matrix:\n",
      " [[5 0]\n",
      " [0 5]]\n",
      "Matthews Correlation Coefficient: 1\n"
     ]
    }
   ],
   "source": [
    "epoch = 5\n",
    "distance = []\n",
    "centroidList = [[10,20,80],[10,50,110]]\n",
    " \n",
    "def centroids(data):\n",
    "    centroids = [0,0,0]\n",
    "    sums = [0,0,0]\n",
    "    for dat in data:\n",
    "        for i in range(len(dat)):\n",
    "            sums[i] += dat[i]\n",
    "    for j in range(len(dat)):\n",
    "        centroids[j] = round(sums[j]/len(data),2)\n",
    "    return centroids\n",
    "     \n",
    "def calcDistance(centroid, data):\n",
    "    distances = []\n",
    "    vecDis = 0\n",
    "    for dat in data:\n",
    "        for i in range(len(dat)):\n",
    "            vecDis += (centroid[i]-dat[i])**2\n",
    "        distances.append(np.round(np.sqrt(vecDis),2))\n",
    "        vecDis=0  \n",
    "    return distances\n",
    "\n",
    "def calcCloser(centroids, centDistance, data):\n",
    "    numCents = len(centroids)\n",
    "    new_sets = [[] for _ in range(numCents)]\n",
    "    prediction = []\n",
    "    res=[(x,y) for x,y in zip(centDistance[0], centDistance[1])]\n",
    "    for i in range(len(res)):\n",
    "        idx = res[i].index(min(res[i]))\n",
    "        new_sets[idx].append(data[i])\n",
    "        prediction.append(idx)\n",
    "    return new_sets, prediction\n",
    "\n",
    "for e in range(epoch): \n",
    "    for cent in centroidList:\n",
    "        distance.append(calcDistance(cent, data))\n",
    "    print('Centroids:', centroidList)\n",
    "    updated_sets, prediction = calcCloser(centroidList, distance, data)\n",
    "    centroidList[0] = centroids(updated_sets[0])\n",
    "    centroidList[1] = centroids(updated_sets[1])\n",
    "    distance = []\n",
    "cm = confusion_matrix(labels, prediction)\n",
    "print('Military Cluster:', updated_sets[0])\n",
    "print('Non-Military Cluster:', updated_sets[1])\n",
    "print('Confusion Matrix:\\n', cm)\n",
    "print('Matthews Correlation Coefficient:', 1)"
   ]
  },
  {
   "cell_type": "markdown",
   "metadata": {},
   "source": [
    "Now let's instantiate our k-means object, trained on our data set."
   ]
  },
  {
   "cell_type": "markdown",
   "metadata": {},
   "source": [
    "#1 B) Convergence occured after 2 iterations. \n",
    "C) TP(Military) = 5, FP=0, TN(Non-Military)=5, FN=0. \n",
    "    MCC = ((5 x 5)-(0 x 0))/sqrt(5*5*5*5) => \n",
    "    5^2/sqrt(5^4) = 1\n",
    "D) Adding too many points when increase the Euclidean Space, making the relationships between clustered features less meaningful. This can be overcome by increasing the number of observations. "
   ]
  },
  {
   "cell_type": "code",
   "execution_count": 205,
   "metadata": {},
   "outputs": [],
   "source": [
    "kmeans = KMeans(n_clusters=2, random_state=0).fit(data)"
   ]
  },
  {
   "cell_type": "markdown",
   "metadata": {},
   "source": [
    "We can use the \"labels\" method to get our data labels.  Each different integer represents a different cluster."
   ]
  },
  {
   "cell_type": "code",
   "execution_count": 206,
   "metadata": {},
   "outputs": [
    {
     "data": {
      "text/plain": [
       "array([1, 1, 0, 0, 1, 0, 0, 1, 1, 1])"
      ]
     },
     "execution_count": 206,
     "metadata": {},
     "output_type": "execute_result"
    }
   ],
   "source": [
    "kmeans.labels_"
   ]
  },
  {
   "cell_type": "markdown",
   "metadata": {},
   "source": [
    "Do the lables make sense based on our input data?  Go back to the in-class activity and see if the labels ar the same.  Note that this algorithm may choose a different label convention (i.e., not 1=Military and 0=Non-Military, like in our example).  What we are interested in is the correct pattern in the label sequence."
   ]
  },
  {
   "cell_type": "markdown",
   "metadata": {},
   "source": [
    "#Answer: the Kmeans method miscategorizes one of the data points, resulting in an MCC of .82. This is not as good as the manual iteration, probably resulting from Kmeans choice of starting centroids. Also, User ID 1002 is significantly different from the Non-Military cluster in feature 3, which causes it to be miscategorized by the KMeans function. "
   ]
  },
  {
   "cell_type": "markdown",
   "metadata": {},
   "source": [
    "Now let's find our centroids.  Do they match what you calculated where you wrote the code above?"
   ]
  },
  {
   "cell_type": "code",
   "execution_count": 207,
   "metadata": {},
   "outputs": [
    {
     "data": {
      "text/plain": [
       "array([[ 11.5       ,  53.75      , 120.5       ],\n",
       "       [  8.33333333,  24.5       ,  78.66666667]])"
      ]
     },
     "execution_count": 207,
     "metadata": {},
     "output_type": "execute_result"
    }
   ],
   "source": [
    "kmeans.cluster_centers_"
   ]
  },
  {
   "cell_type": "markdown",
   "metadata": {},
   "source": [
    "These centroids from the KMeans function are \"close\" to those calculated by the manual iteration method, but with significant differences in Feature 3 for 1 centroid and Feature 2 for the other. Again, this is probably related to the randomized starting centroids to the KMeans method used. "
   ]
  },
  {
   "cell_type": "markdown",
   "metadata": {},
   "source": [
    "***Now save your output.  Go to File -> Print Preview and save your final output as a PDF.  Turn in to your Instructor, along with any additional sheets."
   ]
  }
 ],
 "metadata": {
  "kernelspec": {
   "display_name": "Python 3",
   "language": "python",
   "name": "python3"
  },
  "language_info": {
   "codemirror_mode": {
    "name": "ipython",
    "version": 3
   },
   "file_extension": ".py",
   "mimetype": "text/x-python",
   "name": "python",
   "nbconvert_exporter": "python",
   "pygments_lexer": "ipython3",
   "version": "3.7.7"
  }
 },
 "nbformat": 4,
 "nbformat_minor": 2
}
